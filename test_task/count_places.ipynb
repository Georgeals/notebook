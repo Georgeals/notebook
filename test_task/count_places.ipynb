{
 "cells": [
  {
   "cell_type": "markdown",
   "metadata": {},
   "source": [
    "\t\n",
    "Яндекс.Еда осуществляет доставку еды из ресторанов. При этом у каждого ресторана есть зона, в рамках которой осуществляется доставка. Зона представляет собой полигон (заданы координаты его вершин). Пользователь в зависимости от своего местоположения (координат точки) видит разное количество доступных ресторанов. Нам важно, чтобы у каждого пользователя было достаточное количество ресторанов для выбора. Задача заключается в том, чтобы для каждого пользователя посчитать доступное ему количество ресторанов.\n",
    "\n",
    "Использовать Python (результат .py или .ipynb файл).\n",
    "\n",
    "Данные, которые есть (для простоты в формате .csv, несколько первых строк): user_coordinates.csv (примерно 300 тыс. строк, user_id – идентификатор пользователя)\n",
    "\n",
    "user_id,loc_lat,loc_lon\n",
    "\n",
    "1,55.737564,37.345186\n",
    "2,56.234564,37.234590\n",
    "3,55.234578,36.295745\n",
    "\n",
    "place_zone_coordinates.csv (примерно 500 тыс. строк,\n",
    "place_id – идентификатор ресторана, point_number – порядковый номер вершины полигона)\n",
    "\n",
    "place_id,loc_lat,loc_lon,point_number\n",
    "\n",
    "1,55.747022,37.787073,0\n",
    "1,55.751713,37.784328,1\n",
    "1,55.753878,37.777638,2\n",
    "1,55.751031,37.779351,3\n",
    "2,55.803885,37.458311,0\n",
    "2,55.808677,37.464054,1\n",
    "2,55.809763,37.461314,2\n",
    "2,55.810840,37.458654,3\n",
    "\n",
    "Формат результата:\n",
    "\n",
    "id,number_of_places_available\n",
    "1,2\n",
    "2,19\n",
    "3,0\n",
    "\n",
    "Пожалуйста, укажите ссылку на файл с выполненным тестовым заданием."
   ]
  },
  {
   "cell_type": "code",
   "execution_count": 74,
   "metadata": {
    "collapsed": true
   },
   "outputs": [],
   "source": [
    "# импорт модулей\n",
    "import pandas as pd\n",
    "# чтение данных из файлов\n",
    "df_u = pd.read_csv('user_coordinates.csv')\n",
    "df_p = pd.read_csv('place_zone_coordinates.csv')"
   ]
  },
  {
   "cell_type": "code",
   "execution_count": 23,
   "metadata": {},
   "outputs": [
    {
     "data": {
      "text/html": [
       "<div>\n",
       "<style scoped>\n",
       "    .dataframe tbody tr th:only-of-type {\n",
       "        vertical-align: middle;\n",
       "    }\n",
       "\n",
       "    .dataframe tbody tr th {\n",
       "        vertical-align: top;\n",
       "    }\n",
       "\n",
       "    .dataframe thead th {\n",
       "        text-align: right;\n",
       "    }\n",
       "</style>\n",
       "<table border=\"1\" class=\"dataframe\">\n",
       "  <thead>\n",
       "    <tr style=\"text-align: right;\">\n",
       "      <th></th>\n",
       "      <th>place_id</th>\n",
       "      <th>loc_lat</th>\n",
       "      <th>loc_lon</th>\n",
       "      <th>point_number</th>\n",
       "    </tr>\n",
       "  </thead>\n",
       "  <tbody>\n",
       "    <tr>\n",
       "      <th>0</th>\n",
       "      <td>1</td>\n",
       "      <td>55.747022</td>\n",
       "      <td>37.787073</td>\n",
       "      <td>0</td>\n",
       "    </tr>\n",
       "    <tr>\n",
       "      <th>1</th>\n",
       "      <td>1</td>\n",
       "      <td>55.751713</td>\n",
       "      <td>37.784328</td>\n",
       "      <td>1</td>\n",
       "    </tr>\n",
       "    <tr>\n",
       "      <th>2</th>\n",
       "      <td>1</td>\n",
       "      <td>55.753878</td>\n",
       "      <td>37.777638</td>\n",
       "      <td>2</td>\n",
       "    </tr>\n",
       "    <tr>\n",
       "      <th>3</th>\n",
       "      <td>1</td>\n",
       "      <td>55.751031</td>\n",
       "      <td>37.779351</td>\n",
       "      <td>3</td>\n",
       "    </tr>\n",
       "    <tr>\n",
       "      <th>4</th>\n",
       "      <td>2</td>\n",
       "      <td>55.803885</td>\n",
       "      <td>37.458311</td>\n",
       "      <td>0</td>\n",
       "    </tr>\n",
       "  </tbody>\n",
       "</table>\n",
       "</div>"
      ],
      "text/plain": [
       "   place_id    loc_lat    loc_lon  point_number\n",
       "0         1  55.747022  37.787073             0\n",
       "1         1  55.751713  37.784328             1\n",
       "2         1  55.753878  37.777638             2\n",
       "3         1  55.751031  37.779351             3\n",
       "4         2  55.803885  37.458311             0"
      ]
     },
     "execution_count": 23,
     "metadata": {},
     "output_type": "execute_result"
    }
   ],
   "source": [
    "df_p.head()"
   ]
  },
  {
   "cell_type": "code",
   "execution_count": 24,
   "metadata": {},
   "outputs": [
    {
     "data": {
      "text/html": [
       "<div>\n",
       "<style scoped>\n",
       "    .dataframe tbody tr th:only-of-type {\n",
       "        vertical-align: middle;\n",
       "    }\n",
       "\n",
       "    .dataframe tbody tr th {\n",
       "        vertical-align: top;\n",
       "    }\n",
       "\n",
       "    .dataframe thead th {\n",
       "        text-align: right;\n",
       "    }\n",
       "</style>\n",
       "<table border=\"1\" class=\"dataframe\">\n",
       "  <thead>\n",
       "    <tr style=\"text-align: right;\">\n",
       "      <th></th>\n",
       "      <th>user_id</th>\n",
       "      <th>loc_lat</th>\n",
       "      <th>loc_lon</th>\n",
       "    </tr>\n",
       "  </thead>\n",
       "  <tbody>\n",
       "    <tr>\n",
       "      <th>0</th>\n",
       "      <td>1</td>\n",
       "      <td>55.737564</td>\n",
       "      <td>37.345186</td>\n",
       "    </tr>\n",
       "    <tr>\n",
       "      <th>1</th>\n",
       "      <td>2</td>\n",
       "      <td>56.234564</td>\n",
       "      <td>37.234590</td>\n",
       "    </tr>\n",
       "    <tr>\n",
       "      <th>2</th>\n",
       "      <td>3</td>\n",
       "      <td>55.234578</td>\n",
       "      <td>36.295745</td>\n",
       "    </tr>\n",
       "  </tbody>\n",
       "</table>\n",
       "</div>"
      ],
      "text/plain": [
       "   user_id    loc_lat    loc_lon\n",
       "0        1  55.737564  37.345186\n",
       "1        2  56.234564  37.234590\n",
       "2        3  55.234578  36.295745"
      ]
     },
     "execution_count": 24,
     "metadata": {},
     "output_type": "execute_result"
    }
   ],
   "source": [
    "df_u.head()"
   ]
  },
  {
   "cell_type": "code",
   "execution_count": 88,
   "metadata": {},
   "outputs": [
    {
     "data": {
      "text/plain": [
       "3.0"
      ]
     },
     "execution_count": 88,
     "metadata": {},
     "output_type": "execute_result"
    }
   ],
   "source": [
    "def area_triangle (a, b, c):\n",
    "    \"\"\"Функция определения площади треугольника по координатам вершин треугольника.\n",
    "    a, b, c - координаты вершин треугольника a=[x1, y1], b=[x2, y2], c=[x3, y3].\n",
    "    \"\"\"\n",
    "    x1=a[0]\n",
    "    y1=a[1]\n",
    "    x2=b[0]\n",
    "    y2=b[1]\n",
    "    x3=c[0]\n",
    "    y3=c[1]\n",
    "    sq=0.5*abs((x2-x1)*(y3-y1)-(x3-x1)*(y2-y1))\n",
    "    return sq\n",
    "# Проверка\n",
    "area_triangle((0, 3), (0, 0), (2, 0))"
   ]
  },
  {
   "cell_type": "code",
   "execution_count": 89,
   "metadata": {},
   "outputs": [
    {
     "data": {
      "text/plain": [
       "[2861.1687008828185, 2183.194534569534]"
      ]
     },
     "execution_count": 89,
     "metadata": {},
     "output_type": "execute_result"
    }
   ],
   "source": [
    "# Для использования функции вычисления площади по координатам необходимо сферическу (долготу и широту) систему координат\n",
    "# преобразовать в прямоугольную систему координат.\n",
    "import numpy as np\n",
    "\n",
    "def geotocoor (loc):\n",
    "    \"\"\"Преобразование широты и долготы в прямоугольную систему координат.\n",
    "    loc=[latitude, longitude] в формате градусы пример [55.737564, 37.345186]\"\"\"\n",
    "    at=np.radians(loc[0])  #latitude в радианах \n",
    "    on=np.radians(loc[1])  #longitude в радианах\n",
    "    a=6378.1   #Экваториальный радиус, км\n",
    "    b=6356.8   #Полярный радиус, км\n",
    "    n=(a**2)/(((a**2)*(np.cos(at)**2)+(b**2)*(np.sin(at)**2))**0.5) #радиус кривизны первого вертикала\n",
    "    x=n*np.cos(at)*np.cos(on)\n",
    "    y=n*np.cos(at)*np.sin(on)\n",
    "    return [x, y]\n",
    "\n",
    "# Проверка\n",
    "geotocoor(usertopoint(0))\n",
    "# at=55.737564\n",
    "# np.radians(57.29577)\n",
    "# np.cos(np.radians(at))\n",
    "# np.cos(np.pi)\n",
    "# placetopoint(0)[1]"
   ]
  },
  {
   "cell_type": "code",
   "execution_count": 92,
   "metadata": {},
   "outputs": [
    {
     "data": {
      "application/vnd.jupyter.widget-view+json": {
       "model_id": "8f820f8e8ea94fd3aa26264292d8bbbc",
       "version_major": 2,
       "version_minor": 0
      },
      "text/plain": [
       "A Jupyter Widget"
      ]
     },
     "metadata": {},
     "output_type": "display_data"
    },
    {
     "name": "stdout",
     "output_type": "stream",
     "text": [
      "\n"
     ]
    },
    {
     "data": {
      "text/html": [
       "<div>\n",
       "<style scoped>\n",
       "    .dataframe tbody tr th:only-of-type {\n",
       "        vertical-align: middle;\n",
       "    }\n",
       "\n",
       "    .dataframe tbody tr th {\n",
       "        vertical-align: top;\n",
       "    }\n",
       "\n",
       "    .dataframe thead th {\n",
       "        text-align: right;\n",
       "    }\n",
       "</style>\n",
       "<table border=\"1\" class=\"dataframe\">\n",
       "  <thead>\n",
       "    <tr style=\"text-align: right;\">\n",
       "      <th></th>\n",
       "      <th>user_id</th>\n",
       "      <th>loc_lat</th>\n",
       "      <th>loc_lon</th>\n",
       "      <th>X</th>\n",
       "      <th>Y</th>\n",
       "    </tr>\n",
       "  </thead>\n",
       "  <tbody>\n",
       "    <tr>\n",
       "      <th>0</th>\n",
       "      <td>1</td>\n",
       "      <td>55.737564</td>\n",
       "      <td>37.345186</td>\n",
       "      <td>2861.168701</td>\n",
       "      <td>2183.194535</td>\n",
       "    </tr>\n",
       "    <tr>\n",
       "      <th>1</th>\n",
       "      <td>2</td>\n",
       "      <td>56.234564</td>\n",
       "      <td>37.234590</td>\n",
       "      <td>2828.858799</td>\n",
       "      <td>2149.913683</td>\n",
       "    </tr>\n",
       "    <tr>\n",
       "      <th>2</th>\n",
       "      <td>3</td>\n",
       "      <td>55.234578</td>\n",
       "      <td>36.295745</td>\n",
       "      <td>2937.863397</td>\n",
       "      <td>2157.739326</td>\n",
       "    </tr>\n",
       "  </tbody>\n",
       "</table>\n",
       "</div>"
      ],
      "text/plain": [
       "   user_id    loc_lat    loc_lon            X            Y\n",
       "0        1  55.737564  37.345186  2861.168701  2183.194535\n",
       "1        2  56.234564  37.234590  2828.858799  2149.913683\n",
       "2        3  55.234578  36.295745  2937.863397  2157.739326"
      ]
     },
     "execution_count": 92,
     "metadata": {},
     "output_type": "execute_result"
    }
   ],
   "source": [
    "# Определим положение пользователей в прямоугольной системе координат и добавим в таблицу\n",
    "from tqdm import tnrange, tqdm_notebook, tqdm\n",
    "\n",
    "for i in tnrange(df_u.shape[0]):\n",
    "    loc=df_u.iloc[i,1:3].values #широта и долгота\n",
    "    df_u.loc[i,'X']=geotocoor(loc)[0]\n",
    "    df_u.loc[i,'Y']=geotocoor(loc)[1]\n",
    "df_u.head()\n"
   ]
  },
  {
   "cell_type": "code",
   "execution_count": 93,
   "metadata": {},
   "outputs": [
    {
     "data": {
      "application/vnd.jupyter.widget-view+json": {
       "model_id": "60798a3d76b746dd96d81ab1f4a2ee5f",
       "version_major": 2,
       "version_minor": 0
      },
      "text/plain": [
       "A Jupyter Widget"
      ]
     },
     "metadata": {},
     "output_type": "display_data"
    },
    {
     "name": "stdout",
     "output_type": "stream",
     "text": [
      "\n"
     ]
    },
    {
     "data": {
      "text/html": [
       "<div>\n",
       "<style scoped>\n",
       "    .dataframe tbody tr th:only-of-type {\n",
       "        vertical-align: middle;\n",
       "    }\n",
       "\n",
       "    .dataframe tbody tr th {\n",
       "        vertical-align: top;\n",
       "    }\n",
       "\n",
       "    .dataframe thead th {\n",
       "        text-align: right;\n",
       "    }\n",
       "</style>\n",
       "<table border=\"1\" class=\"dataframe\">\n",
       "  <thead>\n",
       "    <tr style=\"text-align: right;\">\n",
       "      <th></th>\n",
       "      <th>place_id</th>\n",
       "      <th>loc_lat</th>\n",
       "      <th>loc_lon</th>\n",
       "      <th>point_number</th>\n",
       "      <th>X</th>\n",
       "      <th>Y</th>\n",
       "    </tr>\n",
       "  </thead>\n",
       "  <tbody>\n",
       "    <tr>\n",
       "      <th>0</th>\n",
       "      <td>1</td>\n",
       "      <td>55.747022</td>\n",
       "      <td>37.787073</td>\n",
       "      <td>0</td>\n",
       "      <td>2843.558323</td>\n",
       "      <td>2204.662536</td>\n",
       "    </tr>\n",
       "    <tr>\n",
       "      <th>1</th>\n",
       "      <td>1</td>\n",
       "      <td>55.751713</td>\n",
       "      <td>37.784328</td>\n",
       "      <td>1</td>\n",
       "      <td>2843.322755</td>\n",
       "      <td>2204.261797</td>\n",
       "    </tr>\n",
       "    <tr>\n",
       "      <th>2</th>\n",
       "      <td>1</td>\n",
       "      <td>55.753878</td>\n",
       "      <td>37.777638</td>\n",
       "      <td>2</td>\n",
       "      <td>2843.422624</td>\n",
       "      <td>2203.807728</td>\n",
       "    </tr>\n",
       "    <tr>\n",
       "      <th>3</th>\n",
       "      <td>1</td>\n",
       "      <td>55.751031</td>\n",
       "      <td>37.779351</td>\n",
       "      <td>3</td>\n",
       "      <td>2843.563826</td>\n",
       "      <td>2204.053255</td>\n",
       "    </tr>\n",
       "    <tr>\n",
       "      <th>4</th>\n",
       "      <td>2</td>\n",
       "      <td>55.803885</td>\n",
       "      <td>37.458311</td>\n",
       "      <td>0</td>\n",
       "      <td>2852.006477</td>\n",
       "      <td>2185.126401</td>\n",
       "    </tr>\n",
       "  </tbody>\n",
       "</table>\n",
       "</div>"
      ],
      "text/plain": [
       "   place_id    loc_lat    loc_lon  point_number            X            Y\n",
       "0         1  55.747022  37.787073             0  2843.558323  2204.662536\n",
       "1         1  55.751713  37.784328             1  2843.322755  2204.261797\n",
       "2         1  55.753878  37.777638             2  2843.422624  2203.807728\n",
       "3         1  55.751031  37.779351             3  2843.563826  2204.053255\n",
       "4         2  55.803885  37.458311             0  2852.006477  2185.126401"
      ]
     },
     "execution_count": 93,
     "metadata": {},
     "output_type": "execute_result"
    }
   ],
   "source": [
    "# Определим положение точек зон доставки в прямоугольной системе координат и добавим в таблицу\n",
    "for i in tnrange(df_p.shape[0]):\n",
    "    loc=df_p.iloc[i,1:3].values #широта и долгота\n",
    "    df_p.loc[i,'X']=geotocoor(loc)[0]\n",
    "    df_p.loc[i,'Y']=geotocoor(loc)[1]\n",
    "df_p.head()\n"
   ]
  },
  {
   "cell_type": "code",
   "execution_count": 95,
   "metadata": {},
   "outputs": [
    {
     "data": {
      "text/plain": [
       "array([1, 2], dtype=int64)"
      ]
     },
     "execution_count": 95,
     "metadata": {},
     "output_type": "execute_result"
    }
   ],
   "source": [
    "# создаем список id ресторанов.\n",
    "places=df_p['place_id'].unique() # set(df_p['place_id']\n",
    "places\n",
    "\n",
    "# список id point_number\n",
    "# df_p[df_p['place_id']==places[1]][df_p.columns[-1:]].values"
   ]
  },
  {
   "cell_type": "code",
   "execution_count": 99,
   "metadata": {},
   "outputs": [
    {
     "data": {
      "text/plain": [
       "array([[2843.55832281, 2204.66253632],\n",
       "       [2843.32275487, 2204.26179746],\n",
       "       [2843.42262389, 2203.80772805],\n",
       "       [2843.56382557, 2204.05325521]])"
      ]
     },
     "execution_count": 99,
     "metadata": {},
     "output_type": "execute_result"
    }
   ],
   "source": [
    "def placetopoint(i):\n",
    "    \"\"\"Функция возвращает координаты точек многоугольника зоны доставки ресторана по индексу списка places\n",
    "    places - список id ресторанов (place_id) \n",
    "    \"\"\"\n",
    "    return df_p[df_p['place_id']==places[i]][df_p.columns[4:]].values\n",
    "\n",
    "#проверка \n",
    "placetopoint(0)"
   ]
  },
  {
   "cell_type": "code",
   "execution_count": 132,
   "metadata": {},
   "outputs": [
    {
     "data": {
      "text/plain": [
       "0.11039238480371821"
      ]
     },
     "execution_count": 132,
     "metadata": {},
     "output_type": "execute_result"
    }
   ],
   "source": [
    "def sum_area_triangles(point, listpoint):\n",
    "    \"\"\"Функция возвращает сумму площадей треугольников с одной общей вершиной\"\"\"\n",
    "    n=len(listpoint)-1 # количество треугольноиков\n",
    "    areas=0\n",
    "    for i in range(n):\n",
    "        areas=areas+area_triangle(point, listpoint[i], listpoint[i+1])\n",
    "    return areas\n",
    "\n",
    "# Проверка: \n",
    "# Определение площади зоны доставки ресторана с индексом 1\n",
    "sum_area_triangles(placetopoint(1)[0], placetopoint(1)[1:])"
   ]
  },
  {
   "cell_type": "code",
   "execution_count": 110,
   "metadata": {},
   "outputs": [
    {
     "data": {
      "text/plain": [
       "0    1\n",
       "1    2\n",
       "2    3\n",
       "Name: user_id, dtype: int64"
      ]
     },
     "execution_count": 110,
     "metadata": {},
     "output_type": "execute_result"
    }
   ],
   "source": [
    "# создаем список id users.\n",
    "users=df_u['user_id']\n",
    "users"
   ]
  },
  {
   "cell_type": "code",
   "execution_count": 134,
   "metadata": {},
   "outputs": [
    {
     "data": {
      "text/plain": [
       "array([2861.16870088, 2183.19453457])"
      ]
     },
     "execution_count": 134,
     "metadata": {},
     "output_type": "execute_result"
    }
   ],
   "source": [
    "def usertopoint(i):\n",
    "    \"\"\"Функция возвращает координаты пользователя по индексу списка users\n",
    "    users - список id пользователей (id users)\"\"\"\n",
    "    return df_u[df_u['user_id']==users[i]][df_u.columns[3:]].values[0]\n",
    "\n",
    "# Проверка: \n",
    "# координаты пользователя \n",
    "usertopoint(0)"
   ]
  },
  {
   "cell_type": "code",
   "execution_count": 136,
   "metadata": {},
   "outputs": [
    {
     "data": {
      "text/plain": [
       "1"
      ]
     },
     "execution_count": 136,
     "metadata": {},
     "output_type": "execute_result"
    }
   ],
   "source": [
    "# id пользователя\n",
    "users[0]"
   ]
  },
  {
   "cell_type": "code",
   "execution_count": 114,
   "metadata": {},
   "outputs": [
    {
     "data": {
      "text/plain": [
       "12.690714318639323"
      ]
     },
     "execution_count": 114,
     "metadata": {},
     "output_type": "execute_result"
    }
   ],
   "source": [
    "# Площадь суммы треугольников на которые делит точнка (координаты) пользователя многоугольник зоны доставки.\n",
    "sum_area_triangles(usertopoint(0), placetopoint(0))"
   ]
  },
  {
   "cell_type": "code",
   "execution_count": 115,
   "metadata": {},
   "outputs": [
    {
     "data": {
      "text/plain": [
       "0.11718409611987612"
      ]
     },
     "execution_count": 115,
     "metadata": {},
     "output_type": "execute_result"
    }
   ],
   "source": [
    "# %debug\n",
    "# Площадь самой зоны доставки\n",
    "sum_area_triangles(placetopoint(0)[0], placetopoint(0)[1:])"
   ]
  },
  {
   "cell_type": "code",
   "execution_count": 116,
   "metadata": {},
   "outputs": [
    {
     "data": {
      "text/plain": [
       "False"
      ]
     },
     "execution_count": 116,
     "metadata": {},
     "output_type": "execute_result"
    }
   ],
   "source": [
    "# Сравнение \n",
    "sum_area_triangles(usertopoint(0), placetopoint(0))==sum_area_triangles(placetopoint(0)[0], placetopoint(0)[1:])"
   ]
  },
  {
   "cell_type": "code",
   "execution_count": 137,
   "metadata": {},
   "outputs": [
    {
     "data": {
      "text/plain": [
       "0"
      ]
     },
     "execution_count": 137,
     "metadata": {},
     "output_type": "execute_result"
    }
   ],
   "source": [
    "def countplaces (user):\n",
    "    \"\"\"Функция считает количество ресторанов доступных пользователю методом сравнение площади зоны доставки и суммы\n",
    "    площадей треугольников на которые делит точка пользователя зону доставки\n",
    "    user = [x, y] - координаты пользователя\n",
    "    \"\"\"     \n",
    "    n=0\n",
    "    for i in range(len(places)):\n",
    "        # Сначала тест\n",
    "        if sum_area_triangles(user, placetopoint(i))<sum_area_triangles(placetopoint(i)[0], placetopoint(i)[1:]): \n",
    "            print('Где-то ошибка')\n",
    "        # Проверка по строгому равенству, но можно использовать и небольшой диапазон +-отклонение\n",
    "        if sum_area_triangles(user, placetopoint(i))==sum_area_triangles(placetopoint(i)[0], placetopoint(i)[1:]):\n",
    "            n+=1   \n",
    "    return n\n",
    "\n",
    "# Проверка\n",
    "countplaces(usertopoint(0))"
   ]
  },
  {
   "cell_type": "code",
   "execution_count": 138,
   "metadata": {},
   "outputs": [
    {
     "data": {
      "application/vnd.jupyter.widget-view+json": {
       "model_id": "d8241c18b03644c186e6921659fb56a7",
       "version_major": 2,
       "version_minor": 0
      },
      "text/plain": [
       "A Jupyter Widget"
      ]
     },
     "metadata": {},
     "output_type": "display_data"
    },
    {
     "name": "stdout",
     "output_type": "stream",
     "text": [
      "\n"
     ]
    },
    {
     "data": {
      "text/html": [
       "<div>\n",
       "<style scoped>\n",
       "    .dataframe tbody tr th:only-of-type {\n",
       "        vertical-align: middle;\n",
       "    }\n",
       "\n",
       "    .dataframe tbody tr th {\n",
       "        vertical-align: top;\n",
       "    }\n",
       "\n",
       "    .dataframe thead th {\n",
       "        text-align: right;\n",
       "    }\n",
       "</style>\n",
       "<table border=\"1\" class=\"dataframe\">\n",
       "  <thead>\n",
       "    <tr style=\"text-align: right;\">\n",
       "      <th></th>\n",
       "      <th>id</th>\n",
       "      <th>number_of_places_available</th>\n",
       "    </tr>\n",
       "  </thead>\n",
       "  <tbody>\n",
       "    <tr>\n",
       "      <th>0</th>\n",
       "      <td>1.0</td>\n",
       "      <td>0.0</td>\n",
       "    </tr>\n",
       "    <tr>\n",
       "      <th>1</th>\n",
       "      <td>2.0</td>\n",
       "      <td>0.0</td>\n",
       "    </tr>\n",
       "    <tr>\n",
       "      <th>2</th>\n",
       "      <td>3.0</td>\n",
       "      <td>0.0</td>\n",
       "    </tr>\n",
       "  </tbody>\n",
       "</table>\n",
       "</div>"
      ],
      "text/plain": [
       "    id  number_of_places_available\n",
       "0  1.0                         0.0\n",
       "1  2.0                         0.0\n",
       "2  3.0                         0.0"
      ]
     },
     "execution_count": 138,
     "metadata": {},
     "output_type": "execute_result"
    }
   ],
   "source": [
    "# Определяем сколько ресторанов доступно пользователю и записываем все в таблицу\n",
    "df_count=pd.DataFrame()\n",
    "\n",
    "for i in tnrange(len(users)):\n",
    "    df_count.loc[i, 'id']=users[i]\n",
    "    df_count.loc[i, 'number_of_places_available']=countplaces(usertopoint(i))\n",
    "\n",
    "df_count.head()"
   ]
  },
  {
   "cell_type": "code",
   "execution_count": 139,
   "metadata": {},
   "outputs": [
    {
     "data": {
      "text/html": [
       "<div>\n",
       "<style scoped>\n",
       "    .dataframe tbody tr th:only-of-type {\n",
       "        vertical-align: middle;\n",
       "    }\n",
       "\n",
       "    .dataframe tbody tr th {\n",
       "        vertical-align: top;\n",
       "    }\n",
       "\n",
       "    .dataframe thead th {\n",
       "        text-align: right;\n",
       "    }\n",
       "</style>\n",
       "<table border=\"1\" class=\"dataframe\">\n",
       "  <thead>\n",
       "    <tr style=\"text-align: right;\">\n",
       "      <th></th>\n",
       "      <th>id</th>\n",
       "      <th>number_of_places_available</th>\n",
       "    </tr>\n",
       "  </thead>\n",
       "  <tbody>\n",
       "    <tr>\n",
       "      <th>0</th>\n",
       "      <td>1</td>\n",
       "      <td>0</td>\n",
       "    </tr>\n",
       "    <tr>\n",
       "      <th>1</th>\n",
       "      <td>2</td>\n",
       "      <td>0</td>\n",
       "    </tr>\n",
       "    <tr>\n",
       "      <th>2</th>\n",
       "      <td>3</td>\n",
       "      <td>0</td>\n",
       "    </tr>\n",
       "  </tbody>\n",
       "</table>\n",
       "</div>"
      ],
      "text/plain": [
       "   id  number_of_places_available\n",
       "0   1                           0\n",
       "1   2                           0\n",
       "2   3                           0"
      ]
     },
     "execution_count": 139,
     "metadata": {},
     "output_type": "execute_result"
    }
   ],
   "source": [
    "df_count=df_count.astype('int')\n",
    "df_count.head()"
   ]
  },
  {
   "cell_type": "code",
   "execution_count": 131,
   "metadata": {},
   "outputs": [],
   "source": [
    "df_count.to_csv('number_of_places_available.csv')"
   ]
  },
  {
   "cell_type": "code",
   "execution_count": 140,
   "metadata": {
    "collapsed": true
   },
   "outputs": [],
   "source": [
    "# %debug"
   ]
  }
 ],
 "metadata": {
  "kernelspec": {
   "display_name": "Python 3",
   "language": "python",
   "name": "python3"
  },
  "language_info": {
   "codemirror_mode": {
    "name": "ipython",
    "version": 3
   },
   "file_extension": ".py",
   "mimetype": "text/x-python",
   "name": "python",
   "nbconvert_exporter": "python",
   "pygments_lexer": "ipython3",
   "version": "3.6.3"
  }
 },
 "nbformat": 4,
 "nbformat_minor": 2
}
