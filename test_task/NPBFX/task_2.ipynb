{
 "cells": [
  {
   "cell_type": "markdown",
   "metadata": {},
   "source": [
    "## Задача 2\n",
    "\n",
    "Необходимо написать алгоритм (приложение, работающее из командной строки), который на входе получает валидный XML документ, и возвращает в виде результата максимальную глубину вложенности тегов в данном документе. Глубина измеряется в целых числах: 0, 1, 2 и т.д., при этом глубина корневого тэга принимается равной 0.\n",
    "При написании алгоритма могут использоваться любые библиотеки для парсинга XML.\n",
    "Пример:\n",
    "Содержимое XML документа:\n",
    "\n",
    "    <feed xml:lang='en'>\n",
    "        <title>NPBFX</title>\n",
    "        <subtitle lang='en'>Programming challenges</subtitle>\n",
    "        <link rel='alternate' type='text/html' href='http://npbfx.com/' />\n",
    "        <updated>2020-10-28T12:00:00</updated>\n",
    "    </feed>\n",
    "\n",
    "Результат работы алгоритма: 1\n",
    "В данном примере тэг feed имеет глубину вложения: 0. Тэги title, subtitle, link и updated: 1. Поэтому максимальная глубина: 1."
   ]
  },
  {
   "cell_type": "code",
   "execution_count": 93,
   "metadata": {},
   "outputs": [
    {
     "name": "stdout",
     "output_type": "stream",
     "text": [
      "Depth = 1\n"
     ]
    }
   ],
   "source": [
    "!python depth.py data.xml"
   ]
  },
  {
   "cell_type": "code",
   "execution_count": 94,
   "metadata": {},
   "outputs": [
    {
     "name": "stdout",
     "output_type": "stream",
     "text": [
      "Depth = 0\n"
     ]
    }
   ],
   "source": [
    "!python depth.py data_0.xml"
   ]
  },
  {
   "cell_type": "code",
   "execution_count": 95,
   "metadata": {},
   "outputs": [
    {
     "name": "stdout",
     "output_type": "stream",
     "text": [
      "File: <_io.BufferedReader name='data_None.xml'> is not xml. Error: no element found: line 1, column 0\n"
     ]
    }
   ],
   "source": [
    "!python depth.py data_None.xml"
   ]
  },
  {
   "cell_type": "code",
   "execution_count": 96,
   "metadata": {},
   "outputs": [
    {
     "name": "stdout",
     "output_type": "stream",
     "text": [
      "Depth = 3\n"
     ]
    }
   ],
   "source": [
    "!python depth.py data_yml.xml"
   ]
  },
  {
   "cell_type": "code",
   "execution_count": 86,
   "metadata": {},
   "outputs": [],
   "source": [
    "# import xml.etree.ElementTree as ET\n",
    "\n",
    "# file='data.xml'\n",
    "\n",
    "# def depth(file):\n",
    "#     try:\n",
    "#         tree = ET.parse(file)\n",
    "#         root = tree.getroot()\n",
    "#     except Exception as e:\n",
    "#         print(f\"Error! file: {file} is not xml. \" + str(e))\n",
    "#         return False\n",
    "#     d=0\n",
    "#     if len(root)>0:\n",
    "#         list_tree=[root]\n",
    "#     else:\n",
    "#         list_tree=[]\n",
    "#     def dell_depth(root):\n",
    "#         elements_with_child=[]\n",
    "#         for tree in root:    \n",
    "#             for i in range(len(tree)):\n",
    "#     #             print(len(tree[i]))\n",
    "#                 if len(tree[i])>0:\n",
    "#                     elements_with_child.append(tree[i])\n",
    "#     #             print(elements_with_child)\n",
    "#         return elements_with_child\n",
    "#     while len(list_tree)>0:\n",
    "#         d+=1\n",
    "# #         print(d)\n",
    "#         list_tree=dell_depth(list_tree)\n",
    "#     return d\n",
    "\n"
   ]
  },
  {
   "cell_type": "code",
   "execution_count": 90,
   "metadata": {},
   "outputs": [
    {
     "data": {
      "text/plain": [
       "1"
      ]
     },
     "execution_count": 90,
     "metadata": {},
     "output_type": "execute_result"
    }
   ],
   "source": [
    "# depth(file)"
   ]
  }
 ],
 "metadata": {
  "kernelspec": {
   "display_name": "Python 3",
   "language": "python",
   "name": "python3"
  },
  "language_info": {
   "codemirror_mode": {
    "name": "ipython",
    "version": 3
   },
   "file_extension": ".py",
   "mimetype": "text/x-python",
   "name": "python",
   "nbconvert_exporter": "python",
   "pygments_lexer": "ipython3",
   "version": "3.7.6"
  }
 },
 "nbformat": 4,
 "nbformat_minor": 4
}
