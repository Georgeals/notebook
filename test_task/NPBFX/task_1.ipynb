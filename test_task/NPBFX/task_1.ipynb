{
 "cells": [
  {
   "cell_type": "markdown",
   "metadata": {},
   "source": [
    "## Задача 1"
   ]
  },
  {
   "cell_type": "code",
   "execution_count": 95,
   "metadata": {},
   "outputs": [
    {
     "name": "stdout",
     "output_type": "stream",
     "text": [
      "{'a': 5, 'b': 6, 'c.f': 9, 'c.g.m': 17, 'c.g.n': 3}\n"
     ]
    }
   ],
   "source": [
    "d = {\"a\": 5,\n",
    "     \"b\": 6,\n",
    "     \"c\": {\"f\": 9,\n",
    "           \"g\": {\"m\": 17,\n",
    "                 \"n\": 3\n",
    "                 }\n",
    "           }\n",
    "     }\n",
    "\n",
    "def flatten(d):\n",
    "    def onelevel(d):\n",
    "        fd=d.copy()\n",
    "        for k, v in d.items():\n",
    "            if type(v) == dict:\n",
    "                d_c=fd.pop(k)            \n",
    "                for k_c, v_c in d_c.items():\n",
    "                    fd[k+'.'+k_c]=v_c\n",
    "        return fd\n",
    "    def countd(d):\n",
    "        i=0\n",
    "        for v in d.values():\n",
    "            if type(v) == dict:\n",
    "                i=+1\n",
    "        return i\n",
    "    while countd(d)>0:\n",
    "        d=onelevel(d)\n",
    "    return d\n",
    "\n",
    "print(flatten(d))"
   ]
  },
  {
   "cell_type": "code",
   "execution_count": null,
   "metadata": {},
   "outputs": [],
   "source": []
  }
 ],
 "metadata": {
  "kernelspec": {
   "display_name": "Python 3",
   "language": "python",
   "name": "python3"
  },
  "language_info": {
   "codemirror_mode": {
    "name": "ipython",
    "version": 3
   },
   "file_extension": ".py",
   "mimetype": "text/x-python",
   "name": "python",
   "nbconvert_exporter": "python",
   "pygments_lexer": "ipython3",
   "version": "3.7.6"
  }
 },
 "nbformat": 4,
 "nbformat_minor": 4
}
