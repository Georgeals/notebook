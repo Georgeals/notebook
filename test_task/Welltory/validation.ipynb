{
 "cells": [
  {
   "cell_type": "code",
   "execution_count": 1,
   "metadata": {},
   "outputs": [],
   "source": [
    "import json\n",
    "import jsonschema\n",
    "import os\n",
    "\n",
    "filename_events=os.listdir('task_folder/event')\n",
    "filename_schemas=os.listdir('task_folder/schema/')\n",
    "\n",
    "import logging\n",
    "logging.basicConfig(\n",
    "    filename='readme.log', filemode='w', level=logging.INFO, format = '%(levelname)s: [%(asctime)s] %(message)s')\n",
    "\n",
    "\n",
    "\n",
    "def searcherror(event, data, filename_event):    \n",
    "    logging.debug(f'Поиск схемы для события {event}, файл {filename_event}')  \n",
    "    try: \n",
    "        with open('task_folder/schema/'+event + '.schema') as f:                \n",
    "            schema=json.loads(f.read())\n",
    "            logging.debug(f'файл схемы для {event} существует.') \n",
    "        v=jsonschema.Draft7Validator(schema)                   \n",
    "        if v.is_valid(data):\n",
    "            logging.info(f'Отлично!!! Данные события {event}, из файла {filename_event} не содержат ошибок!!!')\n",
    "        else:\n",
    "            errors = sorted(v.iter_errors(data), key=lambda e: e.path)\n",
    "            for error in errors:\n",
    "                logging.warning(f'Данные {event} в файле {filename_event} содержат ошибку: {error.message}')\n",
    "#                     print(error.absolute_path)\n",
    "                if len(error.context)>0:\n",
    "                    for suberror in sorted(error.context, key=lambda e: e.schema_path):\n",
    "                        logging.warning(\n",
    "                            f'Данные {event} в файле {filename_event} содержат ошибку: {suberror.schema_path}, {suberror.message}')\n",
    "    except:\n",
    "        logging.error(f'Для события {event} из файла {filename_event} не найдена схема!')         \n",
    "        \n",
    "\n",
    "# чтение json\n",
    "for filename_event in filename_events:    \n",
    "    with open('task_folder/event/'+filename_event) as f:\n",
    "        js=json.loads(f.read())\n",
    "    logging.info(f'Проверка файла {filename_event}')  \n",
    "    try:\n",
    "        data=js['data']\n",
    "        event=js['event']\n",
    "    except Exception as e:\n",
    "        logging.error(f'В файле {filename_event} ошибка, возомжно он пустой!!! Текст ошибки: {e}')\n",
    "        continue\n",
    "    searcherror(event, data, filename_event)\n",
    "    \n",
    "    "
   ]
  },
  {
   "cell_type": "code",
   "execution_count": null,
   "metadata": {},
   "outputs": [],
   "source": []
  }
 ],
 "metadata": {
  "kernelspec": {
   "display_name": "Python 3",
   "language": "python",
   "name": "python3"
  },
  "language_info": {
   "codemirror_mode": {
    "name": "ipython",
    "version": 3
   },
   "file_extension": ".py",
   "mimetype": "text/x-python",
   "name": "python",
   "nbconvert_exporter": "python",
   "pygments_lexer": "ipython3",
   "version": "3.7.6"
  }
 },
 "nbformat": 4,
 "nbformat_minor": 4
}
