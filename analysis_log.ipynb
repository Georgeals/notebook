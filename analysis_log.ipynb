{
 "cells": [
  {
   "cell_type": "code",
   "execution_count": 1,
   "metadata": {
    "collapsed": true
   },
   "outputs": [],
   "source": [
    "# # скачиваем журнал seranking и сохраняем в файл.\n",
    "# import requests #импортируем модуль\n",
    "\n",
    "# with open('yandexxml001.log',\"wb\") as f: #открываем файл для записи, в режиме wb\n",
    "#     ufr = requests.get(\"yandexxml001.log\") #делаем запрос\n",
    "#     f.write(ufr.content) #записываем содержимое в файл; как видите - content запроса\n",
    "#     f.close()"
   ]
  },
  {
   "cell_type": "code",
   "execution_count": 2,
   "metadata": {},
   "outputs": [
    {
     "data": {
      "application/vnd.jupyter.widget-view+json": {
       "model_id": "3007dbb71a1643cf9614ecde5b9ede92",
       "version_major": 2,
       "version_minor": 0
      },
      "text/plain": [
       "A Jupyter Widget"
      ]
     },
     "metadata": {},
     "output_type": "display_data"
    },
    {
     "name": "stdout",
     "output_type": "stream",
     "text": [
      "\n",
      "Download complete!\n"
     ]
    }
   ],
   "source": [
    "# скачиваем журнал seranking и сохраняем в файл.\n",
    "from tqdm import tqdm_notebook\n",
    "import requests\n",
    "\n",
    "chunk_size = 1024\n",
    "\n",
    "url = \"http://control.artlinespb.ru/log/positions/yandexxml001.log\"\n",
    "\n",
    "r = requests.get(url, stream = True)\n",
    "\n",
    "total_size = int(r.headers['content-length'])\n",
    "filename = url.split('/')[-1]\n",
    "\n",
    "with open(filename, 'wb') as f:\n",
    "    for data in tqdm_notebook(iterable = r.iter_content(chunk_size = chunk_size), total = total_size/chunk_size, unit = 'KB'):\n",
    "        f.write(data)\n",
    "\n",
    "\n",
    "print(\"Download complete!\")"
   ]
  },
  {
   "cell_type": "code",
   "execution_count": 24,
   "metadata": {},
   "outputs": [
    {
     "name": "stdout",
     "output_type": "stream",
     "text": [
      "[2020-01-05 00:00:03] worker #1 started, type:yandexxml, overrideLimit:18 \n",
      "[2020-01-05 00:00:03] quering for records (max:18)... \n",
      "[2020-01-05 00:00:03] got records: 18 \n",
      "[2020-01-05 00:00:03] id: 3388, keyword: бумага для ремонта, siteid:10, se: yandex.ru, k2seID: 3388 \n",
      "[2020-01-05 00:00:03] checking url: cartonservice.ru \n",
      "[2020-01-05 00:00:03] requesting url: https://yandex.ru/search/xml?user=geo-yanguzov&key=03.30227107:15ea4395e1be58843f2b4896c70a7e24&soft_id=&ydomain=&query=%D0%B1%D1%83%D0%BC%D0%B0%D0%B3%D0%B0+%D0%B4%D0%BB%D1%8F+%D1%80%D0%B5%D0%BC%D0%BE%D0%BD%D1%82%D0%B0&lr=2&groupby=attr%3Dd.mode%3Ddeep.groups-on-page%3D100.docs-in-group%3D1, proxy:  \n",
      "[2020-01-05 00:00:04] total results: 7929238 \n",
      "[2020-01-05 00:00:04]  results on page: 100 \n",
      "[2020-01-05 00:00:04] found cartonservice.ru at pos 9 by url: https://www.cartonservice.ru/produkcia/bumaga/stroitelnaya-bumaga \n",
      "[2020-01-05 00:00:04] found competitor http://www.tcbumaga.ru at pos 37 by url: https://www.tcbumaga.ru/bumaga/kraft\n"
     ]
    }
   ],
   "source": [
    "#     просмотр первых строк файла\n",
    "with open('yandexxml001.log', encoding='utf-8', newline='\\n') as f:\n",
    "    print(f.read(1000))"
   ]
  },
  {
   "cell_type": "code",
   "execution_count": 25,
   "metadata": {},
   "outputs": [
    {
     "data": {
      "text/plain": [
       "['[2020-03-27 12:10:12] requesting url: https://yandex.ru/search/xml?user=geo-yanguzov&key=03.30227107:15ea4395e1be58843f2b4896c70a7e24&soft_id=&ydomain=&query=%D1%80%D0%B5%D0%B7%D0%BA%D0%B0+%D0%BA%D0%B0%D1%80%D1%82%D0%BE%D0%BD%D0%B0+%D0%B1%D0%BE%D0%B1%D0%B8%D0%BD%D0%BE%D1%80%D0%B5%D0%B7%D0%BA%D0%BE%D0%B9&lr=213&groupby=attr%3Dd.mode%3Ddeep.groups-on-page%3D100.docs-in-group%3D1, proxy:  \\n',\n",
       " '[2020-03-27 12:10:12] total results: 12082016 \\n',\n",
       " '[2020-03-27 12:10:12]  results on page: 100 \\n',\n",
       " '[2020-03-27 12:10:12] found tcbumaga.ru at pos 31 by url: https://www.tcbumaga.ru/uslugi \\n',\n",
       " '[2020-03-27 12:10:12]  position: 31, status: success \\n',\n",
       " '[2020-03-27 12:10:12] id: 47244, keyword: резка картона бобинорезкой, siteid:94, se: yandex.ru, k2seID: 47244 \\n',\n",
       " '[2020-03-27 12:10:12] checking url: tcbumaga.ru \\n',\n",
       " '[2020-03-27 12:10:12] requesting url: https://yandex.ru/search/xml?user=geo-yanguzov&key=03.30227107:15ea4395e1be58843f2b4896c70a7e24&soft_id=&ydomain=&query=%D1%80%D0%B5%D0%B7%D0%BA%D0%B0+%D0%BA%D0%B0%D1%80%D1%82%D0%BE%D0%BD%D0%B0+%D0%B1%D0%BE%D0%B1%D0%B8%D0%BD%D0%BE%D1%80%D0%B5%D0%B7%D0%BA%D0%BE%D0%B9&lr=10743&groupby=attr%3Dd.mode%3Ddeep.groups-on-page%3D100.docs-in-group%3D1, proxy:  \\n',\n",
       " '[2020-03-27 12:10:13] total results: 4200960 \\n',\n",
       " '[2020-03-27 12:10:13]  results on page: 100 \\n',\n",
       " '[2020-03-27 12:10:13] found tcbumaga.ru at pos 34 by url: https://www.tcbumaga.ru/bobinorezka \\n',\n",
       " '[2020-03-27 12:10:13]  position: 34, status: success \\n',\n",
       " '[2020-03-27 12:10:13] id: 47245, keyword: резка картона бобинорезкой, siteid:94, se: yandex.ru, k2seID: 47245 \\n',\n",
       " '[2020-03-27 12:10:13] checking url: tcbumaga.ru \\n',\n",
       " '[2020-03-27 12:10:13] requesting url: https://yandex.ru/search/xml?user=geo-yanguzov&key=03.30227107:15ea4395e1be58843f2b4896c70a7e24&soft_id=&ydomain=&query=%D1%80%D0%B5%D0%B7%D0%BA%D0%B0+%D0%BA%D0%B0%D1%80%D1%82%D0%BE%D0%BD%D0%B0+%D0%B1%D0%BE%D0%B1%D0%B8%D0%BD%D0%BE%D1%80%D0%B5%D0%B7%D0%BA%D0%BE%D0%B9&lr=225&groupby=attr%3Dd.mode%3Ddeep.groups-on-page%3D100.docs-in-group%3D1, proxy:  \\n',\n",
       " '[2020-03-27 12:10:14] total results: 4146909 \\n',\n",
       " '[2020-03-27 12:10:14]  results on page: 100 \\n',\n",
       " '[2020-03-27 12:10:14] found tcbumaga.ru at pos 16 by url: https://www.tcbumaga.ru/bobinorezka \\n',\n",
       " '[2020-03-27 12:10:14]  position: 16, status: success \\n',\n",
       " '[2020-03-27 12:10:14] thread finished \\n']"
      ]
     },
     "execution_count": 25,
     "metadata": {},
     "output_type": "execute_result"
    }
   ],
   "source": [
    "with open('yandexxml001.log', encoding='utf-8', newline='\\n') as f:\n",
    "    line=f.readlines()\n",
    "line[-20:] # просмотр последних строк файла"
   ]
  },
  {
   "cell_type": "code",
   "execution_count": 35,
   "metadata": {
    "collapsed": true
   },
   "outputs": [],
   "source": [
    "import pandas as pd\n",
    "df=pd.DataFrame({'log':line}) # создаем датафрейм\n",
    "# df.tail() # вывод последних строк"
   ]
  },
  {
   "cell_type": "code",
   "execution_count": 36,
   "metadata": {
    "collapsed": true
   },
   "outputs": [],
   "source": [
    "# склейка двух файлов\n",
    "\n",
    "# with open('yandexxml001.log', encoding='utf-8', newline='\\n') as f:\n",
    "#     line=f.readlines()\n",
    "# line[-10:] # просмотр последних 10 строк \n",
    "\n",
    "# import pandas as pd\n",
    "# df2=pd.DataFrame({'log':line}) # создаем датафрейм\n",
    "# df=df.append(df2)\n",
    "# df.tail() # вывод последних строк"
   ]
  },
  {
   "cell_type": "code",
   "execution_count": 37,
   "metadata": {},
   "outputs": [],
   "source": [
    "# обезличивание данных\n",
    "# df['log'].str[21:40]+'...'\n",
    "# df.head()\n"
   ]
  },
  {
   "cell_type": "code",
   "execution_count": 38,
   "metadata": {},
   "outputs": [
    {
     "name": "stderr",
     "output_type": "stream",
     "text": [
      "C:\\Users\\George\\Anaconda3\\lib\\site-packages\\pandas\\core\\internals.py:3462: FutureWarning: Passing in 'datetime64' dtype with no frequency is deprecated and will raise in a future version. Please pass in 'datetime64[ns]' instead.\n",
      "  return self.apply('astype', dtype=dtype, **kwargs)\n"
     ]
    }
   ],
   "source": [
    "\n",
    "# извлечение даты\n",
    "df['datetime'] = df['log'].str[1:20]\n",
    "# приведение к нужн типу данных\n",
    "df['datetime'] = df['datetime'].astype('datetime64') \n",
    "\n",
    "# df.head()\n"
   ]
  },
  {
   "cell_type": "code",
   "execution_count": 39,
   "metadata": {},
   "outputs": [],
   "source": [
    "# извлечение записи журнала без даты\n",
    "df['note'] = df['log'].str[22:40]+'...'\n",
    "# обезличивание данных\n",
    "df['log']= df['log'].str[21:40]+'...'"
   ]
  },
  {
   "cell_type": "code",
   "execution_count": 40,
   "metadata": {},
   "outputs": [
    {
     "data": {
      "text/plain": [
       "checking url: tcbu...    48064\n",
       "checking url: cart...    35510\n",
       "checking url: tang...    18938\n",
       "checking url: www....    17452\n",
       "checking url: artl...     7108\n",
       "checking url: kv-i...     6601\n",
       "checking url: bzss...     4895\n",
       "checking url: tax-...     4449\n",
       "checking url: russ...     3791\n",
       "checking url: poro...     3378\n",
       "checking url: dies...     2715\n",
       "checking url: gas-...     2580\n",
       "checking url: exac...     1788\n",
       "checking url: klin...      700\n",
       "checking url: kris...      385\n",
       "checking url: star...      344\n",
       "checking url: psyh...      240\n",
       "checking url: orbi...      151\n",
       "checking url: idei...      147\n",
       "Name: note, dtype: int64"
      ]
     },
     "execution_count": 40,
     "metadata": {},
     "output_type": "execute_result"
    }
   ],
   "source": [
    "# Сделать: имеет смысл смотреть только за последнюю неделю.\n",
    "\n",
    "# Подсчет сколько запросов уходит на какой сайт за весь период\n",
    "df_site=df[df['note'].apply(lambda note: note[:12] == 'checking url')]\n",
    "# print(\"Размерность таблицы = \", df_site.shape)\n",
    "df_site['note'].value_counts()\n"
   ]
  },
  {
   "cell_type": "code",
   "execution_count": 42,
   "metadata": {
    "collapsed": true
   },
   "outputs": [],
   "source": [
    "# Извлечения даты\n",
    "df['date']=df['datetime'].dt.date"
   ]
  },
  {
   "cell_type": "code",
   "execution_count": 43,
   "metadata": {},
   "outputs": [
    {
     "data": {
      "text/html": [
       "<div>\n",
       "<style scoped>\n",
       "    .dataframe tbody tr th:only-of-type {\n",
       "        vertical-align: middle;\n",
       "    }\n",
       "\n",
       "    .dataframe tbody tr th {\n",
       "        vertical-align: top;\n",
       "    }\n",
       "\n",
       "    .dataframe thead th {\n",
       "        text-align: right;\n",
       "    }\n",
       "</style>\n",
       "<table border=\"1\" class=\"dataframe\">\n",
       "  <thead>\n",
       "    <tr style=\"text-align: right;\">\n",
       "      <th></th>\n",
       "      <th>log</th>\n",
       "    </tr>\n",
       "    <tr>\n",
       "      <th>date</th>\n",
       "      <th></th>\n",
       "    </tr>\n",
       "  </thead>\n",
       "  <tbody>\n",
       "    <tr>\n",
       "      <th>2020-03-14</th>\n",
       "      <td>1486</td>\n",
       "    </tr>\n",
       "    <tr>\n",
       "      <th>2020-03-15</th>\n",
       "      <td>1542</td>\n",
       "    </tr>\n",
       "    <tr>\n",
       "      <th>2020-03-16</th>\n",
       "      <td>1747</td>\n",
       "    </tr>\n",
       "    <tr>\n",
       "      <th>2020-03-17</th>\n",
       "      <td>701</td>\n",
       "    </tr>\n",
       "    <tr>\n",
       "      <th>2020-03-18</th>\n",
       "      <td>3430</td>\n",
       "    </tr>\n",
       "    <tr>\n",
       "      <th>2020-03-19</th>\n",
       "      <td>1244</td>\n",
       "    </tr>\n",
       "    <tr>\n",
       "      <th>2020-03-20</th>\n",
       "      <td>1934</td>\n",
       "    </tr>\n",
       "    <tr>\n",
       "      <th>2020-03-21</th>\n",
       "      <td>1487</td>\n",
       "    </tr>\n",
       "    <tr>\n",
       "      <th>2020-03-22</th>\n",
       "      <td>1631</td>\n",
       "    </tr>\n",
       "    <tr>\n",
       "      <th>2020-03-23</th>\n",
       "      <td>1814</td>\n",
       "    </tr>\n",
       "    <tr>\n",
       "      <th>2020-03-24</th>\n",
       "      <td>690</td>\n",
       "    </tr>\n",
       "    <tr>\n",
       "      <th>2020-03-25</th>\n",
       "      <td>3434</td>\n",
       "    </tr>\n",
       "    <tr>\n",
       "      <th>2020-03-26</th>\n",
       "      <td>2407</td>\n",
       "    </tr>\n",
       "    <tr>\n",
       "      <th>2020-03-27</th>\n",
       "      <td>1252</td>\n",
       "    </tr>\n",
       "  </tbody>\n",
       "</table>\n",
       "</div>"
      ],
      "text/plain": [
       "             log\n",
       "date            \n",
       "2020-03-14  1486\n",
       "2020-03-15  1542\n",
       "2020-03-16  1747\n",
       "2020-03-17   701\n",
       "2020-03-18  3430\n",
       "2020-03-19  1244\n",
       "2020-03-20  1934\n",
       "2020-03-21  1487\n",
       "2020-03-22  1631\n",
       "2020-03-23  1814\n",
       "2020-03-24   690\n",
       "2020-03-25  3434\n",
       "2020-03-26  2407\n",
       "2020-03-27  1252"
      ]
     },
     "execution_count": 43,
     "metadata": {},
     "output_type": "execute_result"
    }
   ],
   "source": [
    "df_site.head()\n",
    "df[df['note'].str.contains('checking url')][['date', 'log']].groupby(['date']).count().tail(14)"
   ]
  },
  {
   "cell_type": "code",
   "execution_count": 44,
   "metadata": {},
   "outputs": [
    {
     "data": {
      "text/html": [
       "<div>\n",
       "<style scoped>\n",
       "    .dataframe tbody tr th:only-of-type {\n",
       "        vertical-align: middle;\n",
       "    }\n",
       "\n",
       "    .dataframe tbody tr th {\n",
       "        vertical-align: top;\n",
       "    }\n",
       "\n",
       "    .dataframe thead th {\n",
       "        text-align: right;\n",
       "    }\n",
       "</style>\n",
       "<table border=\"1\" class=\"dataframe\">\n",
       "  <thead>\n",
       "    <tr style=\"text-align: right;\">\n",
       "      <th></th>\n",
       "      <th>log</th>\n",
       "    </tr>\n",
       "    <tr>\n",
       "      <th>date</th>\n",
       "      <th></th>\n",
       "    </tr>\n",
       "  </thead>\n",
       "  <tbody>\n",
       "    <tr>\n",
       "      <th>2020-03-14</th>\n",
       "      <td>1486</td>\n",
       "    </tr>\n",
       "    <tr>\n",
       "      <th>2020-03-15</th>\n",
       "      <td>1542</td>\n",
       "    </tr>\n",
       "    <tr>\n",
       "      <th>2020-03-16</th>\n",
       "      <td>1747</td>\n",
       "    </tr>\n",
       "    <tr>\n",
       "      <th>2020-03-17</th>\n",
       "      <td>701</td>\n",
       "    </tr>\n",
       "    <tr>\n",
       "      <th>2020-03-18</th>\n",
       "      <td>3430</td>\n",
       "    </tr>\n",
       "    <tr>\n",
       "      <th>2020-03-19</th>\n",
       "      <td>1244</td>\n",
       "    </tr>\n",
       "    <tr>\n",
       "      <th>2020-03-20</th>\n",
       "      <td>1934</td>\n",
       "    </tr>\n",
       "    <tr>\n",
       "      <th>2020-03-21</th>\n",
       "      <td>1487</td>\n",
       "    </tr>\n",
       "    <tr>\n",
       "      <th>2020-03-22</th>\n",
       "      <td>1631</td>\n",
       "    </tr>\n",
       "    <tr>\n",
       "      <th>2020-03-23</th>\n",
       "      <td>1814</td>\n",
       "    </tr>\n",
       "    <tr>\n",
       "      <th>2020-03-24</th>\n",
       "      <td>690</td>\n",
       "    </tr>\n",
       "    <tr>\n",
       "      <th>2020-03-25</th>\n",
       "      <td>3434</td>\n",
       "    </tr>\n",
       "    <tr>\n",
       "      <th>2020-03-26</th>\n",
       "      <td>2407</td>\n",
       "    </tr>\n",
       "    <tr>\n",
       "      <th>2020-03-27</th>\n",
       "      <td>1252</td>\n",
       "    </tr>\n",
       "  </tbody>\n",
       "</table>\n",
       "</div>"
      ],
      "text/plain": [
       "             log\n",
       "date            \n",
       "2020-03-14  1486\n",
       "2020-03-15  1542\n",
       "2020-03-16  1747\n",
       "2020-03-17   701\n",
       "2020-03-18  3430\n",
       "2020-03-19  1244\n",
       "2020-03-20  1934\n",
       "2020-03-21  1487\n",
       "2020-03-22  1631\n",
       "2020-03-23  1814\n",
       "2020-03-24   690\n",
       "2020-03-25  3434\n",
       "2020-03-26  2407\n",
       "2020-03-27  1252"
      ]
     },
     "execution_count": 44,
     "metadata": {},
     "output_type": "execute_result"
    }
   ],
   "source": [
    "# Количество запросов в последние 14 дней\n",
    "df[df['note'].str.contains('checking url')][['date', 'log']].groupby(['date']).count().tail(14)"
   ]
  },
  {
   "cell_type": "code",
   "execution_count": 45,
   "metadata": {
    "collapsed": true
   },
   "outputs": [],
   "source": [
    "%matplotlib inline \n",
    "# Рисовать графики сразу же\n",
    "import matplotlib.pyplot as plt\n",
    "# df[df['note'].str.contains('checking url')]['date'].value_counts()"
   ]
  },
  {
   "cell_type": "code",
   "execution_count": 46,
   "metadata": {
    "collapsed": true
   },
   "outputs": [],
   "source": [
    "# Сводная статистика\n",
    "# df_site.describe()"
   ]
  },
  {
   "cell_type": "code",
   "execution_count": 47,
   "metadata": {
    "collapsed": true
   },
   "outputs": [],
   "source": [
    "# Возьмем данные за последнюю неделю\n",
    "week=7*24*60*60*1000000000\n",
    "sd=pd.Timestamp(df_site['datetime'].max().value-week)\n",
    "df_w=df[df['datetime']>sd.date()]\n",
    "# df_w.tail()\n"
   ]
  },
  {
   "cell_type": "code",
   "execution_count": 48,
   "metadata": {},
   "outputs": [
    {
     "data": {
      "text/html": [
       "<div>\n",
       "<style scoped>\n",
       "    .dataframe tbody tr th:only-of-type {\n",
       "        vertical-align: middle;\n",
       "    }\n",
       "\n",
       "    .dataframe tbody tr th {\n",
       "        vertical-align: top;\n",
       "    }\n",
       "\n",
       "    .dataframe thead th {\n",
       "        text-align: right;\n",
       "    }\n",
       "</style>\n",
       "<table border=\"1\" class=\"dataframe\">\n",
       "  <thead>\n",
       "    <tr style=\"text-align: right;\">\n",
       "      <th></th>\n",
       "      <th>log</th>\n",
       "    </tr>\n",
       "    <tr>\n",
       "      <th>date</th>\n",
       "      <th></th>\n",
       "    </tr>\n",
       "  </thead>\n",
       "  <tbody>\n",
       "    <tr>\n",
       "      <th>2020-03-20</th>\n",
       "      <td>1934</td>\n",
       "    </tr>\n",
       "    <tr>\n",
       "      <th>2020-03-21</th>\n",
       "      <td>1487</td>\n",
       "    </tr>\n",
       "    <tr>\n",
       "      <th>2020-03-22</th>\n",
       "      <td>1631</td>\n",
       "    </tr>\n",
       "    <tr>\n",
       "      <th>2020-03-23</th>\n",
       "      <td>1814</td>\n",
       "    </tr>\n",
       "    <tr>\n",
       "      <th>2020-03-24</th>\n",
       "      <td>690</td>\n",
       "    </tr>\n",
       "    <tr>\n",
       "      <th>2020-03-25</th>\n",
       "      <td>3434</td>\n",
       "    </tr>\n",
       "    <tr>\n",
       "      <th>2020-03-26</th>\n",
       "      <td>2407</td>\n",
       "    </tr>\n",
       "    <tr>\n",
       "      <th>2020-03-27</th>\n",
       "      <td>1252</td>\n",
       "    </tr>\n",
       "  </tbody>\n",
       "</table>\n",
       "</div>"
      ],
      "text/plain": [
       "             log\n",
       "date            \n",
       "2020-03-20  1934\n",
       "2020-03-21  1487\n",
       "2020-03-22  1631\n",
       "2020-03-23  1814\n",
       "2020-03-24   690\n",
       "2020-03-25  3434\n",
       "2020-03-26  2407\n",
       "2020-03-27  1252"
      ]
     },
     "execution_count": 48,
     "metadata": {},
     "output_type": "execute_result"
    }
   ],
   "source": [
    "# Количество запросов в разрезе дней недели за последнюю неделю\n",
    "# df_w[df_w['note'].apply(lambda note: note[:12] == 'checking url')]['date'].value_counts()\n",
    "df_w[df_w['note'].str.contains('checking url')][['date', 'log']].groupby(['date']).count()"
   ]
  },
  {
   "cell_type": "code",
   "execution_count": 49,
   "metadata": {
    "collapsed": true
   },
   "outputs": [],
   "source": [
    "# Количество запросов к Яндексу в разрезе сайтов\n",
    "# df_w[df_w['note'].apply(lambda note: note[:12] == 'checking url')]['note'].value_counts()"
   ]
  },
  {
   "cell_type": "code",
   "execution_count": 50,
   "metadata": {},
   "outputs": [
    {
     "name": "stderr",
     "output_type": "stream",
     "text": [
      "C:\\Users\\George\\Anaconda3\\lib\\site-packages\\ipykernel_launcher.py:6: SettingWithCopyWarning: \n",
      "A value is trying to be set on a copy of a slice from a DataFrame.\n",
      "Try using .loc[row_indexer,col_indexer] = value instead\n",
      "\n",
      "See the caveats in the documentation: http://pandas.pydata.org/pandas-docs/stable/indexing.html#indexing-view-versus-copy\n",
      "  \n"
     ]
    }
   ],
   "source": [
    "# Извлечение признака день недели\n",
    "\n",
    "# temp=df_w['date']\n",
    "# temp.data.\n",
    "# df_w['day']=df_w['date'].dt.date\n",
    "df_w['day']=df_w['datetime'].dt.strftime('%A')\n",
    "# df_w.head()"
   ]
  },
  {
   "cell_type": "code",
   "execution_count": 51,
   "metadata": {
    "collapsed": true
   },
   "outputs": [],
   "source": [
    "#  Сводная статистика за неделю\n",
    "# df_w.describe()"
   ]
  },
  {
   "cell_type": "code",
   "execution_count": 52,
   "metadata": {
    "collapsed": true
   },
   "outputs": [],
   "source": [
    "%matplotlib inline \n",
    "# Рисовать графики сразу же\n",
    "import matplotlib.pyplot as plt\n",
    "import numpy as np\n"
   ]
  },
  {
   "cell_type": "code",
   "execution_count": 53,
   "metadata": {
    "collapsed": true
   },
   "outputs": [],
   "source": [
    "# df_w.head()"
   ]
  },
  {
   "cell_type": "code",
   "execution_count": 54,
   "metadata": {},
   "outputs": [
    {
     "data": {
      "text/html": [
       "<div>\n",
       "<style scoped>\n",
       "    .dataframe tbody tr th:only-of-type {\n",
       "        vertical-align: middle;\n",
       "    }\n",
       "\n",
       "    .dataframe tbody tr th {\n",
       "        vertical-align: top;\n",
       "    }\n",
       "\n",
       "    .dataframe thead th {\n",
       "        text-align: right;\n",
       "    }\n",
       "</style>\n",
       "<table border=\"1\" class=\"dataframe\">\n",
       "  <thead>\n",
       "    <tr style=\"text-align: right;\">\n",
       "      <th>date</th>\n",
       "      <th>2020-03-20</th>\n",
       "      <th>2020-03-21</th>\n",
       "      <th>2020-03-22</th>\n",
       "      <th>2020-03-23</th>\n",
       "      <th>2020-03-24</th>\n",
       "      <th>2020-03-25</th>\n",
       "      <th>2020-03-26</th>\n",
       "      <th>2020-03-27</th>\n",
       "    </tr>\n",
       "    <tr>\n",
       "      <th>note</th>\n",
       "      <th></th>\n",
       "      <th></th>\n",
       "      <th></th>\n",
       "      <th></th>\n",
       "      <th></th>\n",
       "      <th></th>\n",
       "      <th></th>\n",
       "      <th></th>\n",
       "    </tr>\n",
       "  </thead>\n",
       "  <tbody>\n",
       "    <tr>\n",
       "      <th>checking url: artl...</th>\n",
       "      <td>680</td>\n",
       "      <td>0</td>\n",
       "      <td>678</td>\n",
       "      <td>0</td>\n",
       "      <td>0</td>\n",
       "      <td>0</td>\n",
       "      <td>0</td>\n",
       "      <td>0</td>\n",
       "    </tr>\n",
       "    <tr>\n",
       "      <th>checking url: bzss...</th>\n",
       "      <td>445</td>\n",
       "      <td>0</td>\n",
       "      <td>0</td>\n",
       "      <td>0</td>\n",
       "      <td>0</td>\n",
       "      <td>0</td>\n",
       "      <td>0</td>\n",
       "      <td>445</td>\n",
       "    </tr>\n",
       "    <tr>\n",
       "      <th>checking url: cart...</th>\n",
       "      <td>0</td>\n",
       "      <td>0</td>\n",
       "      <td>0</td>\n",
       "      <td>0</td>\n",
       "      <td>0</td>\n",
       "      <td>2732</td>\n",
       "      <td>0</td>\n",
       "      <td>0</td>\n",
       "    </tr>\n",
       "    <tr>\n",
       "      <th>checking url: exac...</th>\n",
       "      <td>0</td>\n",
       "      <td>0</td>\n",
       "      <td>0</td>\n",
       "      <td>149</td>\n",
       "      <td>0</td>\n",
       "      <td>0</td>\n",
       "      <td>0</td>\n",
       "      <td>0</td>\n",
       "    </tr>\n",
       "    <tr>\n",
       "      <th>checking url: gas-...</th>\n",
       "      <td>0</td>\n",
       "      <td>47</td>\n",
       "      <td>0</td>\n",
       "      <td>0</td>\n",
       "      <td>0</td>\n",
       "      <td>0</td>\n",
       "      <td>0</td>\n",
       "      <td>0</td>\n",
       "    </tr>\n",
       "    <tr>\n",
       "      <th>checking url: kris...</th>\n",
       "      <td>0</td>\n",
       "      <td>0</td>\n",
       "      <td>0</td>\n",
       "      <td>32</td>\n",
       "      <td>0</td>\n",
       "      <td>0</td>\n",
       "      <td>0</td>\n",
       "      <td>0</td>\n",
       "    </tr>\n",
       "    <tr>\n",
       "      <th>checking url: kv-i...</th>\n",
       "      <td>0</td>\n",
       "      <td>0</td>\n",
       "      <td>0</td>\n",
       "      <td>0</td>\n",
       "      <td>0</td>\n",
       "      <td>0</td>\n",
       "      <td>550</td>\n",
       "      <td>0</td>\n",
       "    </tr>\n",
       "    <tr>\n",
       "      <th>checking url: poro...</th>\n",
       "      <td>0</td>\n",
       "      <td>0</td>\n",
       "      <td>249</td>\n",
       "      <td>0</td>\n",
       "      <td>0</td>\n",
       "      <td>0</td>\n",
       "      <td>0</td>\n",
       "      <td>0</td>\n",
       "    </tr>\n",
       "    <tr>\n",
       "      <th>checking url: psyh...</th>\n",
       "      <td>0</td>\n",
       "      <td>24</td>\n",
       "      <td>0</td>\n",
       "      <td>0</td>\n",
       "      <td>0</td>\n",
       "      <td>0</td>\n",
       "      <td>0</td>\n",
       "      <td>0</td>\n",
       "    </tr>\n",
       "    <tr>\n",
       "      <th>checking url: tang...</th>\n",
       "      <td>80</td>\n",
       "      <td>81</td>\n",
       "      <td>79</td>\n",
       "      <td>79</td>\n",
       "      <td>79</td>\n",
       "      <td>81</td>\n",
       "      <td>79</td>\n",
       "      <td>79</td>\n",
       "    </tr>\n",
       "    <tr>\n",
       "      <th>checking url: tax-...</th>\n",
       "      <td>0</td>\n",
       "      <td>0</td>\n",
       "      <td>0</td>\n",
       "      <td>342</td>\n",
       "      <td>0</td>\n",
       "      <td>0</td>\n",
       "      <td>0</td>\n",
       "      <td>0</td>\n",
       "    </tr>\n",
       "    <tr>\n",
       "      <th>checking url: tcbu...</th>\n",
       "      <td>618</td>\n",
       "      <td>625</td>\n",
       "      <td>625</td>\n",
       "      <td>614</td>\n",
       "      <td>611</td>\n",
       "      <td>621</td>\n",
       "      <td>618</td>\n",
       "      <td>617</td>\n",
       "    </tr>\n",
       "    <tr>\n",
       "      <th>checking url: www....</th>\n",
       "      <td>111</td>\n",
       "      <td>710</td>\n",
       "      <td>0</td>\n",
       "      <td>598</td>\n",
       "      <td>0</td>\n",
       "      <td>0</td>\n",
       "      <td>1160</td>\n",
       "      <td>111</td>\n",
       "    </tr>\n",
       "  </tbody>\n",
       "</table>\n",
       "</div>"
      ],
      "text/plain": [
       "date                   2020-03-20  2020-03-21  2020-03-22  2020-03-23  \\\n",
       "note                                                                    \n",
       "checking url: artl...         680           0         678           0   \n",
       "checking url: bzss...         445           0           0           0   \n",
       "checking url: cart...           0           0           0           0   \n",
       "checking url: exac...           0           0           0         149   \n",
       "checking url: gas-...           0          47           0           0   \n",
       "checking url: kris...           0           0           0          32   \n",
       "checking url: kv-i...           0           0           0           0   \n",
       "checking url: poro...           0           0         249           0   \n",
       "checking url: psyh...           0          24           0           0   \n",
       "checking url: tang...          80          81          79          79   \n",
       "checking url: tax-...           0           0           0         342   \n",
       "checking url: tcbu...         618         625         625         614   \n",
       "checking url: www....         111         710           0         598   \n",
       "\n",
       "date                   2020-03-24  2020-03-25  2020-03-26  2020-03-27  \n",
       "note                                                                   \n",
       "checking url: artl...           0           0           0           0  \n",
       "checking url: bzss...           0           0           0         445  \n",
       "checking url: cart...           0        2732           0           0  \n",
       "checking url: exac...           0           0           0           0  \n",
       "checking url: gas-...           0           0           0           0  \n",
       "checking url: kris...           0           0           0           0  \n",
       "checking url: kv-i...           0           0         550           0  \n",
       "checking url: poro...           0           0           0           0  \n",
       "checking url: psyh...           0           0           0           0  \n",
       "checking url: tang...          79          81          79          79  \n",
       "checking url: tax-...           0           0           0           0  \n",
       "checking url: tcbu...         611         621         618         617  \n",
       "checking url: www....           0           0        1160         111  "
      ]
     },
     "execution_count": 54,
     "metadata": {},
     "output_type": "execute_result"
    }
   ],
   "source": [
    "# Сводная таблица количества запросов к яндексxml по дням и сайтам\n",
    "df_w[df_w['note'].apply(lambda note: note[:12] == 'checking url')].pivot_table(\n",
    "    values='datetime', index='note', columns='date', aggfunc='count', fill_value=0)"
   ]
  },
  {
   "cell_type": "code",
   "execution_count": 55,
   "metadata": {},
   "outputs": [
    {
     "data": {
      "image/png": "[encoded data removed]",
      "text/plain": [
       "<matplotlib.figure.Figure at 0xcefd4e0>"
      ]
     },
     "metadata": {},
     "output_type": "display_data"
    }
   ],
   "source": [
    "# Гистограмма количества запросов к яндексxml по дням и сайтам\n",
    "df_w[df_w['note'].apply(lambda note: note[:12] == 'checking url')].pivot_table(values='datetime', index='date', columns='note', aggfunc='count').plot.bar(stacked=True, figsize=(16, 10));"
   ]
  },
  {
   "cell_type": "code",
   "execution_count": 23,
   "metadata": {
    "collapsed": true
   },
   "outputs": [],
   "source": [
    "# df_w.info()\n",
    "# df_week=df_week.reset_index()\n",
    "\n",
    "# i=0\n",
    "# print(df_week.shape[0])\n",
    "# if df_week.loc[i,'note'][:12] == 'checking url':\n",
    "#     site=df_week.loc[i,'note'][12:]\n",
    "# df_week.loc[i,'note'][:12]\n",
    "# type(df_w['datetime'].dt.date[0])"
   ]
  },
  {
   "cell_type": "code",
   "execution_count": 24,
   "metadata": {
    "collapsed": true
   },
   "outputs": [],
   "source": [
    "# Анализ ошибок\n",
    "# df_w[df_w['note'].str.contains('ERROR')].head()"
   ]
  },
  {
   "cell_type": "code",
   "execution_count": 25,
   "metadata": {},
   "outputs": [
    {
     "data": {
      "text/plain": [
       "ERROR: Количество запросов, отправленных в течение секунды (RPS), превысило допустимое значение    99\n",
       " position: 0, status: load_page_error                                                              99\n",
       "Name: note, dtype: int64"
      ]
     },
     "execution_count": 25,
     "metadata": {},
     "output_type": "execute_result"
    }
   ],
   "source": [
    "# Счтитаем количество и тип ошибок \n",
    "df_w[(df_w['note'].str.contains('error'))|(df_w['note'].str.contains('ERROR'))]['note'].value_counts()"
   ]
  },
  {
   "cell_type": "code",
   "execution_count": 26,
   "metadata": {},
   "outputs": [
    {
     "data": {
      "text/html": [
       "<div>\n",
       "<style scoped>\n",
       "    .dataframe tbody tr th:only-of-type {\n",
       "        vertical-align: middle;\n",
       "    }\n",
       "\n",
       "    .dataframe tbody tr th {\n",
       "        vertical-align: top;\n",
       "    }\n",
       "\n",
       "    .dataframe thead th {\n",
       "        text-align: right;\n",
       "    }\n",
       "</style>\n",
       "<table border=\"1\" class=\"dataframe\">\n",
       "  <thead>\n",
       "    <tr style=\"text-align: right;\">\n",
       "      <th></th>\n",
       "      <th></th>\n",
       "      <th>log</th>\n",
       "    </tr>\n",
       "    <tr>\n",
       "      <th>date</th>\n",
       "      <th>note</th>\n",
       "      <th></th>\n",
       "    </tr>\n",
       "  </thead>\n",
       "  <tbody>\n",
       "    <tr>\n",
       "      <th rowspan=\"2\" valign=\"top\">2020-03-20</th>\n",
       "      <th>position: 0, status: load_page_error</th>\n",
       "      <td>13</td>\n",
       "    </tr>\n",
       "    <tr>\n",
       "      <th>ERROR: Количество запросов, отправленных в течение секунды (RPS), превысило допустимое значение</th>\n",
       "      <td>13</td>\n",
       "    </tr>\n",
       "    <tr>\n",
       "      <th rowspan=\"2\" valign=\"top\">2020-03-21</th>\n",
       "      <th>position: 0, status: load_page_error</th>\n",
       "      <td>19</td>\n",
       "    </tr>\n",
       "    <tr>\n",
       "      <th>ERROR: Количество запросов, отправленных в течение секунды (RPS), превысило допустимое значение</th>\n",
       "      <td>19</td>\n",
       "    </tr>\n",
       "    <tr>\n",
       "      <th rowspan=\"2\" valign=\"top\">2020-03-22</th>\n",
       "      <th>position: 0, status: load_page_error</th>\n",
       "      <td>17</td>\n",
       "    </tr>\n",
       "    <tr>\n",
       "      <th>ERROR: Количество запросов, отправленных в течение секунды (RPS), превысило допустимое значение</th>\n",
       "      <td>17</td>\n",
       "    </tr>\n",
       "    <tr>\n",
       "      <th rowspan=\"2\" valign=\"top\">2020-03-23</th>\n",
       "      <th>position: 0, status: load_page_error</th>\n",
       "      <td>6</td>\n",
       "    </tr>\n",
       "    <tr>\n",
       "      <th>ERROR: Количество запросов, отправленных в течение секунды (RPS), превысило допустимое значение</th>\n",
       "      <td>6</td>\n",
       "    </tr>\n",
       "    <tr>\n",
       "      <th rowspan=\"2\" valign=\"top\">2020-03-24</th>\n",
       "      <th>position: 0, status: load_page_error</th>\n",
       "      <td>3</td>\n",
       "    </tr>\n",
       "    <tr>\n",
       "      <th>ERROR: Количество запросов, отправленных в течение секунды (RPS), превысило допустимое значение</th>\n",
       "      <td>3</td>\n",
       "    </tr>\n",
       "    <tr>\n",
       "      <th rowspan=\"2\" valign=\"top\">2020-03-25</th>\n",
       "      <th>position: 0, status: load_page_error</th>\n",
       "      <td>17</td>\n",
       "    </tr>\n",
       "    <tr>\n",
       "      <th>ERROR: Количество запросов, отправленных в течение секунды (RPS), превысило допустимое значение</th>\n",
       "      <td>17</td>\n",
       "    </tr>\n",
       "    <tr>\n",
       "      <th rowspan=\"2\" valign=\"top\">2020-03-26</th>\n",
       "      <th>position: 0, status: load_page_error</th>\n",
       "      <td>15</td>\n",
       "    </tr>\n",
       "    <tr>\n",
       "      <th>ERROR: Количество запросов, отправленных в течение секунды (RPS), превысило допустимое значение</th>\n",
       "      <td>15</td>\n",
       "    </tr>\n",
       "    <tr>\n",
       "      <th rowspan=\"2\" valign=\"top\">2020-03-27</th>\n",
       "      <th>position: 0, status: load_page_error</th>\n",
       "      <td>9</td>\n",
       "    </tr>\n",
       "    <tr>\n",
       "      <th>ERROR: Количество запросов, отправленных в течение секунды (RPS), превысило допустимое значение</th>\n",
       "      <td>9</td>\n",
       "    </tr>\n",
       "  </tbody>\n",
       "</table>\n",
       "</div>"
      ],
      "text/plain": [
       "                                                               log\n",
       "date       note                                                   \n",
       "2020-03-20  position: 0, status: load_page_error                13\n",
       "           ERROR: Количество запросов, отправленных в тече...   13\n",
       "2020-03-21  position: 0, status: load_page_error                19\n",
       "           ERROR: Количество запросов, отправленных в тече...   19\n",
       "2020-03-22  position: 0, status: load_page_error                17\n",
       "           ERROR: Количество запросов, отправленных в тече...   17\n",
       "2020-03-23  position: 0, status: load_page_error                 6\n",
       "           ERROR: Количество запросов, отправленных в тече...    6\n",
       "2020-03-24  position: 0, status: load_page_error                 3\n",
       "           ERROR: Количество запросов, отправленных в тече...    3\n",
       "2020-03-25  position: 0, status: load_page_error                17\n",
       "           ERROR: Количество запросов, отправленных в тече...   17\n",
       "2020-03-26  position: 0, status: load_page_error                15\n",
       "           ERROR: Количество запросов, отправленных в тече...   15\n",
       "2020-03-27  position: 0, status: load_page_error                 9\n",
       "           ERROR: Количество запросов, отправленных в тече...    9"
      ]
     },
     "execution_count": 26,
     "metadata": {},
     "output_type": "execute_result"
    }
   ],
   "source": [
    "df_w[(df_w['note'].str.contains('error'))|(df_w['note'].str.contains('ERROR'))][[\n",
    "    'date', 'note', 'log']].groupby(['date', 'note']).count()"
   ]
  },
  {
   "cell_type": "code",
   "execution_count": null,
   "metadata": {
    "collapsed": true
   },
   "outputs": [],
   "source": [
    "# df_w[(df_w['note'].str.contains('ERROR'))|(df_w['note'].str.contains('checking'))]['note'].value_counts()"
   ]
  },
  {
   "cell_type": "code",
   "execution_count": null,
   "metadata": {},
   "outputs": [
    {
     "data": {
      "application/vnd.jupyter.widget-view+json": {
       "model_id": "cf588e9e937043df97ad3a3a27e54373",
       "version_major": 2,
       "version_minor": 0
      },
      "text/plain": [
       "A Jupyter Widget"
      ]
     },
     "metadata": {},
     "output_type": "display_data"
    },
    {
     "name": "stderr",
     "output_type": "stream",
     "text": [
      "C:\\Users\\George\\Anaconda3\\lib\\site-packages\\pandas\\core\\indexing.py:357: SettingWithCopyWarning: \n",
      "A value is trying to be set on a copy of a slice from a DataFrame.\n",
      "Try using .loc[row_indexer,col_indexer] = value instead\n",
      "\n",
      "See the caveats in the documentation: http://pandas.pydata.org/pandas-docs/stable/indexing.html#indexing-view-versus-copy\n",
      "  self.obj[key] = _infer_fill_value(value)\n",
      "C:\\Users\\George\\Anaconda3\\lib\\site-packages\\pandas\\core\\indexing.py:537: SettingWithCopyWarning: \n",
      "A value is trying to be set on a copy of a slice from a DataFrame.\n",
      "Try using .loc[row_indexer,col_indexer] = value instead\n",
      "\n",
      "See the caveats in the documentation: http://pandas.pydata.org/pandas-docs/stable/indexing.html#indexing-view-versus-copy\n",
      "  self.obj[item] = s\n"
     ]
    }
   ],
   "source": [
    "# Размечение всех строк log журнала адресом сайта который в данным момент проверяется. \n",
    "\n",
    "# Сделать: 1) обращаться лучше по индексу 2) оставить только строки checking and error\n",
    "\n",
    "\n",
    "# индексы ячеек c сайтом и ошибкой\n",
    "\n",
    "index = df_w[(df_w['note'].str.contains('error'))|(df_w['note'].str.contains('ERROR'))|(df_w['note'].str.contains(\n",
    "    'checking'))].index \n",
    "\n",
    "from tqdm import tnrange, tqdm_notebook, tqdm\n",
    "\n",
    "start=0 \n",
    "stop=len(index)\n",
    "site=np.nan\n",
    "for i in tnrange(start, stop, desc='site'):\n",
    "#     print(i)\n",
    "    if df_w.loc[index[i],'note'][:12] == 'checking url':\n",
    "#         print(index[i])\n",
    "        site=df_w.loc[index[i],'note'][14:]\n",
    "#         print(site)\n",
    "    df_w.loc[index[i],'site']=site\n",
    "    \n",
    "    \n",
    "# tnrange(0, "
   ]
  },
  {
   "cell_type": "code",
   "execution_count": null,
   "metadata": {
    "collapsed": true
   },
   "outputs": [],
   "source": [
    "# Экспорт данных в таблицу\n",
    "# df_w.to_csv('df_w.csv')\n",
    "# #df.to_html('to_html')\n",
    "# # df.to_json('json')\n",
    "# df_w.to_pickle('df_w.pkl')\n",
    "# # df_w.to_hdf('df_len_title.h5','table', append=True)\n",
    "# df_w.head()"
   ]
  },
  {
   "cell_type": "code",
   "execution_count": null,
   "metadata": {
    "collapsed": true
   },
   "outputs": [],
   "source": [
    "# import pandas as pd\n",
    "# # df_w=pd.read_csv('df_w.csv')\n",
    "# # df_week=pd.read_pickle('df_w.pkl')\n",
    "# df_w.head(100)"
   ]
  },
  {
   "cell_type": "code",
   "execution_count": null,
   "metadata": {
    "collapsed": true
   },
   "outputs": [],
   "source": [
    "# df_w.tail(50)"
   ]
  },
  {
   "cell_type": "code",
   "execution_count": null,
   "metadata": {
    "collapsed": true
   },
   "outputs": [],
   "source": [
    "df_w[(df_w['note'].str.contains('error'))|(df_w['note'].str.contains('ERROR'))].groupby('site').count()"
   ]
  },
  {
   "cell_type": "code",
   "execution_count": null,
   "metadata": {
    "collapsed": true
   },
   "outputs": [],
   "source": [
    "\n",
    "# df_w_s['date'] = df_week['date'].astype('datetime64') \n",
    "# # df_w_s.info()\n",
    "# df_w_s['day']=df_w_s['date'].dt.date\n",
    "# df_w_s.head()\n"
   ]
  },
  {
   "cell_type": "code",
   "execution_count": null,
   "metadata": {
    "collapsed": true
   },
   "outputs": [],
   "source": [
    "df_w[(df_w['note'].str.contains('error'))|(df_w['note'].str.contains('ERROR'))][['date', 'note', 'log']].groupby(\n",
    "    ['date', 'note']).count()"
   ]
  },
  {
   "cell_type": "code",
   "execution_count": null,
   "metadata": {
    "collapsed": true
   },
   "outputs": [],
   "source": [
    "# Группировка по дням недели и сайтам\n",
    "df_w[(df_w['note'].str.contains('error'))|(df_w['note'].str.contains('ERROR'))][['date', 'site', 'note', 'log']].groupby(\n",
    "    ['date', 'site', 'note']).count()\n",
    "# Сводная таблица по дням недели и сайтам\n",
    "# df_w[df_w['note'].str.contains('ERROR')].pivot_table(values='log', index='note', columns='date', aggfunc='count')"
   ]
  },
  {
   "cell_type": "code",
   "execution_count": null,
   "metadata": {
    "collapsed": true
   },
   "outputs": [],
   "source": [
    "df_w.head(50)"
   ]
  },
  {
   "cell_type": "code",
   "execution_count": null,
   "metadata": {
    "collapsed": true
   },
   "outputs": [],
   "source": [
    "# %%time\n",
    "# # сделать: без сортировки по \n",
    "# df_w['date']=df_w['datetime'].dt.date"
   ]
  },
  {
   "cell_type": "code",
   "execution_count": null,
   "metadata": {
    "collapsed": true
   },
   "outputs": [],
   "source": [
    "df_w[(df_w['note'].str.contains('error'))|(\n",
    "    df_w['note'].str.contains('ERROR'))][['date', 'log']].groupby(['date']).count()\n"
   ]
  },
  {
   "cell_type": "code",
   "execution_count": null,
   "metadata": {
    "collapsed": true
   },
   "outputs": [],
   "source": [
    "# экспорт данных\n",
    "# df_w_s[df_w_s['note'].str.contains('ERROR')].to_csv('df_week_error.csv')\n",
    "\n",
    "\n",
    "\n",
    "#df.to_html('to_html')\n",
    "# df.to_json('json')\n",
    "# df_week.to_pickle('pickle')\n",
    "# # df_week.to_hdf('df_len_title.h5','table', append=True)\n",
    "# df_week.head(100)"
   ]
  }
 ],
 "metadata": {
  "kernelspec": {
   "display_name": "Python 3",
   "language": "python",
   "name": "python3"
  },
  "language_info": {
   "codemirror_mode": {
    "name": "ipython",
    "version": 3
   },
   "file_extension": ".py",
   "mimetype": "text/x-python",
   "name": "python",
   "nbconvert_exporter": "python",
   "pygments_lexer": "ipython3",
   "version": "3.6.3"
  }
 },
 "nbformat": 4,
 "nbformat_minor": 2
}
