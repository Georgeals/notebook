{
 "cells": [
  {
   "cell_type": "markdown",
   "metadata": {},
   "source": [
    "# Парсинг заголовков сайтов компаний по справочнику Санкт-Петербурга"
   ]
  },
  {
   "cell_type": "code",
   "execution_count": 1,
   "metadata": {
    "collapsed": true
   },
   "outputs": [],
   "source": [
    "import pandas as pd\n",
    "import requests"
   ]
  },
  {
   "cell_type": "code",
   "execution_count": 2,
   "metadata": {
    "collapsed": true
   },
   "outputs": [],
   "source": [
    "df=pd.read_excel('база предприятий спб/Санкт-Петербург 2ГИС.xlsx')  # Это то, куда вы скачали файл\n",
    "df.info()"
   ]
  },
  {
   "cell_type": "code",
   "execution_count": 3,
   "metadata": {
    "collapsed": true
   },
   "outputs": [],
   "source": [
    "# Удаление строк в которых отсутствует адрес сайта\n",
    "df.dropna(subset=['Сайт'], inplace=True)"
   ]
  },
  {
   "cell_type": "code",
   "execution_count": 4,
   "metadata": {
    "collapsed": true
   },
   "outputs": [],
   "source": [
    "# Удаление лишних столбцов\n",
    "df.drop(df.columns[range(8,46)], axis=1, inplace=True)"
   ]
  },
  {
   "cell_type": "code",
   "execution_count": 3,
   "metadata": {
    "collapsed": true
   },
   "outputs": [],
   "source": [
    "df.info()\n",
    "df.head()"
   ]
  },
  {
   "cell_type": "code",
   "execution_count": 6,
   "metadata": {
    "collapsed": true
   },
   "outputs": [],
   "source": [
    "df.describe(include='all')"
   ]
  },
  {
   "cell_type": "code",
   "execution_count": 7,
   "metadata": {
    "collapsed": true
   },
   "outputs": [],
   "source": [
    "# уникальных адресов сайтов 40317 шт, удалит дубликаты\n",
    "df=df.drop_duplicates('Сайт')\n",
    "df.info()\n",
    "df.head()"
   ]
  },
  {
   "cell_type": "code",
   "execution_count": 15,
   "metadata": {
    "collapsed": true
   },
   "outputs": [],
   "source": [
    "Сбросить индекс строк\n",
    "df=df.reset_index(drop=True)\n",
    "делать не обязательно, так как новый скрипт сам определяет индексы."
   ]
  },
  {
   "cell_type": "code",
   "execution_count": 5,
   "metadata": {
    "collapsed": true
   },
   "outputs": [],
   "source": [
    "df.head(10)"
   ]
  },
  {
   "cell_type": "markdown",
   "metadata": {},
   "source": [
    "## Парсинг актуального адреса сайта с сохранением истории редиректов."
   ]
  },
  {
   "cell_type": "code",
   "execution_count": 7,
   "metadata": {
    "collapsed": true,
    "scrolled": true
   },
   "outputs": [],
   "source": [
    "\n",
    "# Данный способ лучше, так как не нужно каждый раз определять место на котором прервался и с которого нужно начинать.\n",
    "\n",
    "# Второй и последующие запуски\n",
    "\n",
    "df=pd.read_pickle('https.pkl')\n",
    "\n",
    "from tqdm import tnrange, tqdm_notebook, tqdm\n",
    "from time import sleep\n",
    "import threading\n",
    "\n",
    "\n",
    "#определяем индексы пустых ячеек\n",
    "index = df[df['url'].isna()].index\n",
    "\n",
    "#количество потоков\n",
    "n=10\n",
    "\n",
    "#создание функции \n",
    "def urlverfctn(i):\n",
    "    \"\"\"\n",
    "    i - номер строки в датафреме\n",
    "    \"\"\"\n",
    "    try:\n",
    "        url=df.loc[i,'Сайт']\n",
    "        r = requests.head(url, timeout=(30, 200), allow_redirects=True)\n",
    "        df.loc[i,'url']= r.url\n",
    "        history=''\n",
    "        if len(r.history)>0:\n",
    "            for h in range(len(r.history)):\n",
    "                history=history + r.history[h].url+\"-\"+str(r.history[h].status_code)+'->'\n",
    "            history=history+r.url\n",
    "        df.loc[i,'history']= history\n",
    "    except Exception as e:\n",
    "        df.loc[i,'url']= (\"Error! \" + str(e))\n",
    "        print(\"Error! \" + str(e))\n",
    "    print('OK', i, history)\n",
    "\n",
    "    \n",
    "# Настройка потоков  \n",
    "for i in tnrange(0, len(index), n):\n",
    "    #массив для добавления потоков\n",
    "    threads = []\n",
    "    # переменная для задания диапазона строк\n",
    "    m=i+n\n",
    "    for j in range(i,m):\n",
    "        # Подготавливаем потоки, складываем их в массив\n",
    "        threads.append(threading.Thread(target=urlverfctn, args=(index[j],)))\n",
    "    # Запускаем каждый поток\n",
    "    for thread in threads:\n",
    "        thread.start()\n",
    "    # Завершение каждого потока\n",
    "    for thread in threads:\n",
    "        thread.join()\n",
    "    df.to_pickle('https.pkl')"
   ]
  },
  {
   "cell_type": "code",
   "execution_count": 8,
   "metadata": {
    "collapsed": true
   },
   "outputs": [],
   "source": [
    "# Проверка адресов, которые выдали ошибку.\n",
    "# Парсинг актуального адреса сайта с сохранением истории редиректов.\n",
    "\n",
    "df=pd.read_pickle('https.pkl')\n",
    "\n",
    "from tqdm import tnrange, tqdm_notebook, tqdm\n",
    "from time import sleep\n",
    "import threading\n",
    "import logging\n",
    "import warnings\n",
    "warnings.filterwarnings('ignore')\n",
    "\n",
    "logging.basicConfig(format = u'%(levelname)-8s [%(asctime)s] %(message)s', level = logging.I, filename = u'mylog.log')\n",
    "\n",
    "\n",
    "#определяем индексы ячеек с ошибками \n",
    "index = df[df['url'].str.find('Error!')>-1][5100:].index\n",
    "\n",
    "#количество потоков\n",
    "n=10\n",
    "\n",
    "#создание функции \n",
    "def urlverfctn(i):\n",
    "    \"\"\"\n",
    "    i - номер строки в датафреме\n",
    "    \"\"\"\n",
    "    try:\n",
    "        url=df.loc[i,'Сайт']\n",
    "        r = requests.head(url, timeout=(30, 200), allow_redirects=True)\n",
    "        df.loc[i,'url']= r.url\n",
    "        history=''\n",
    "        if len(r.history)>0:\n",
    "            for h in range(len(r.history)):\n",
    "                history=history + r.history[h].url+\"-\"+str(r.history[h].status_code)+'->'\n",
    "            history=history+r.url\n",
    "        df.loc[i,'history']= history\n",
    "    except Exception as e:\n",
    "        df.loc[i,'url']= (\"Error! \" + str(e))\n",
    "        logging.error(\"Error! \" + str(e), i)\n",
    "    logging.info('OK', i, history)\n",
    "\n",
    "    \n",
    "# Настройка потоков  \n",
    "for i in tnrange(0, len(index), n):\n",
    "    #массив для добавления потоков\n",
    "    threads = []\n",
    "    # переменная для задания диапазона строк\n",
    "    m=i+n\n",
    "    for j in range(i,m):\n",
    "        # Подготавливаем потоки, складываем их в массив\n",
    "        threads.append(threading.Thread(target=urlverfctn, args=(index[j],)))\n",
    "    # Запускаем каждый поток\n",
    "    for thread in threads:\n",
    "        thread.start()\n",
    "    # Завершение каждого потока\n",
    "    for thread in threads:\n",
    "        thread.join()\n",
    "    df.to_pickle('https.pkl')"
   ]
  },
  {
   "cell_type": "code",
   "execution_count": 2,
   "metadata": {
    "collapsed": true
   },
   "outputs": [],
   "source": [
    "df=pd.read_pickle('https_clean.pkl')"
   ]
  },
  {
   "cell_type": "code",
   "execution_count": 12,
   "metadata": {
    "collapsed": true
   },
   "outputs": [],
   "source": [
    "# df1=df[df['url'].str.find('Error!')>-1].reset_index()"
   ]
  },
  {
   "cell_type": "code",
   "execution_count": 10,
   "metadata": {
    "collapsed": true
   },
   "outputs": [],
   "source": [
    "# df1[df1['url'].str.find('www.bsc-ltd.ru')>-1]"
   ]
  },
  {
   "cell_type": "code",
   "execution_count": 11,
   "metadata": {
    "collapsed": true
   },
   "outputs": [],
   "source": [
    "# df[df['url'].str.find('Error!')>-1][5100:]\n"
   ]
  },
  {
   "cell_type": "code",
   "execution_count": 20,
   "metadata": {
    "collapsed": true
   },
   "outputs": [],
   "source": [
    "# df[df['url'].str.find('Error!')>-1]"
   ]
  },
  {
   "cell_type": "code",
   "execution_count": 21,
   "metadata": {
    "collapsed": true
   },
   "outputs": [],
   "source": [
    "# df[df['url'].str.find('Error!')>-1].index"
   ]
  },
  {
   "cell_type": "code",
   "execution_count": 26,
   "metadata": {
    "collapsed": true
   },
   "outputs": [],
   "source": [
    "# df.to_pickle('https.pkl')"
   ]
  },
  {
   "cell_type": "code",
   "execution_count": null,
   "metadata": {
    "collapsed": true
   },
   "outputs": [],
   "source": [
    "# df['https']=df['Сайт'].str.find('https')>-1"
   ]
  },
  {
   "cell_type": "code",
   "execution_count": 12,
   "metadata": {
    "collapsed": true
   },
   "outputs": [],
   "source": [
    "df['https']=df['url'].str.find('https')>-1"
   ]
  },
  {
   "cell_type": "code",
   "execution_count": 13,
   "metadata": {},
   "outputs": [
    {
     "data": {
      "text/plain": [
       "False    32672\n",
       "True      7645\n",
       "Name: https, dtype: int64"
      ]
     },
     "execution_count": 13,
     "metadata": {},
     "output_type": "execute_result"
    }
   ],
   "source": [
    "df['https'].value_counts()\n"
   ]
  },
  {
   "attachments": {},
   "cell_type": "markdown",
   "metadata": {},
   "source": [
    "## Вывод:\n",
    "### Только 18,96% компаний используют https соединение."
   ]
  },
  {
   "cell_type": "code",
   "execution_count": 17,
   "metadata": {},
   "outputs": [
    {
     "data": {
      "text/html": [
       "<div>\n",
       "<style scoped>\n",
       "    .dataframe tbody tr th:only-of-type {\n",
       "        vertical-align: middle;\n",
       "    }\n",
       "\n",
       "    .dataframe tbody tr th {\n",
       "        vertical-align: top;\n",
       "    }\n",
       "\n",
       "    .dataframe thead th {\n",
       "        text-align: right;\n",
       "    }\n",
       "</style>\n",
       "<table border=\"1\" class=\"dataframe\">\n",
       "  <thead>\n",
       "    <tr style=\"text-align: right;\">\n",
       "      <th></th>\n",
       "      <th>Город</th>\n",
       "      <th>Наименование</th>\n",
       "      <th>Адрес</th>\n",
       "      <th>Рубрика</th>\n",
       "      <th>Подрубрика</th>\n",
       "      <th>Сайт</th>\n",
       "      <th>Почта</th>\n",
       "      <th>Тел. 1</th>\n",
       "      <th>url</th>\n",
       "      <th>history</th>\n",
       "      <th>https</th>\n",
       "    </tr>\n",
       "  </thead>\n",
       "  <tbody>\n",
       "    <tr>\n",
       "      <th>0</th>\n",
       "      <td>Санкт-Петербург</td>\n",
       "      <td>Аварийно-диспетчерская служба Невского района,...</td>\n",
       "      <td>Дыбенко, 25 к5</td>\n",
       "      <td>Аварийные / справочные / экстренные службы</td>\n",
       "      <td>Аварийные службы</td>\n",
       "      <td>http://www.gks1nev.ru</td>\n",
       "      <td>NaN</td>\n",
       "      <td>(812) 308-88-01</td>\n",
       "      <td>https://www.gks1nev.ru/</td>\n",
       "      <td>http://www.gks1nev.ru/-301-&gt;https://www.gks1ne...</td>\n",
       "      <td>True</td>\n",
       "    </tr>\n",
       "    <tr>\n",
       "      <th>1</th>\n",
       "      <td>Санкт-Петербург</td>\n",
       "      <td>Центрально-диспетчерская служба, ООО Петербург...</td>\n",
       "      <td>Разъезжая, 46</td>\n",
       "      <td>Аварийные / справочные / экстренные службы</td>\n",
       "      <td>Аварийные службы</td>\n",
       "      <td>http://www.ptenergo.ru</td>\n",
       "      <td>office@ptenergo.ru</td>\n",
       "      <td>(812) 233-00-08</td>\n",
       "      <td>https://ptenergo.ru</td>\n",
       "      <td>http://www.ptenergo.ru/-302-&gt;https://ptenergo.ru</td>\n",
       "      <td>True</td>\n",
       "    </tr>\n",
       "    <tr>\n",
       "      <th>2</th>\n",
       "      <td>Санкт-Петербург</td>\n",
       "      <td>Аварийно-диспетчерская служба Выборгского, Кал...</td>\n",
       "      <td>Кондратьевский проспект, 15 к3</td>\n",
       "      <td>Аварийные / справочные / экстренные службы</td>\n",
       "      <td>Аварийные службы</td>\n",
       "      <td>http://cityservice.spb.ru</td>\n",
       "      <td>cityservice@spcs.spb.ru</td>\n",
       "      <td>(812) 604-00-00</td>\n",
       "      <td>https://cityservice.spb.ru/</td>\n",
       "      <td>http://cityservice.spb.ru/-302-&gt;https://cityse...</td>\n",
       "      <td>True</td>\n",
       "    </tr>\n",
       "    <tr>\n",
       "      <th>3</th>\n",
       "      <td>Санкт-Петербург</td>\n",
       "      <td>Аварийка.ру, аварийная служба</td>\n",
       "      <td>Набережная реки Фонтанки, 90 к5</td>\n",
       "      <td>Аварийные / справочные / экстренные службы</td>\n",
       "      <td>Аварийные службы</td>\n",
       "      <td>http://www.avariyca.ru</td>\n",
       "      <td>avariyca@yandex.ru</td>\n",
       "      <td>(812) 926-96-39</td>\n",
       "      <td>http://www.avariyca.ru/</td>\n",
       "      <td></td>\n",
       "      <td>False</td>\n",
       "    </tr>\n",
       "    <tr>\n",
       "      <th>4</th>\n",
       "      <td>Санкт-Петербург</td>\n",
       "      <td>Прогресс, аварийно-восстановительная служба</td>\n",
       "      <td>Костромской проспект, 4</td>\n",
       "      <td>Аварийные / справочные / экстренные службы</td>\n",
       "      <td>Аварийные службы</td>\n",
       "      <td>http://guprep.ru</td>\n",
       "      <td>progress-plan@rambler.ru</td>\n",
       "      <td>(812) 554-48-18</td>\n",
       "      <td>http://guprep.ru/</td>\n",
       "      <td></td>\n",
       "      <td>False</td>\n",
       "    </tr>\n",
       "  </tbody>\n",
       "</table>\n",
       "</div>"
      ],
      "text/plain": [
       "             Город                                       Наименование  \\\n",
       "0  Санкт-Петербург  Аварийно-диспетчерская служба Невского района,...   \n",
       "1  Санкт-Петербург  Центрально-диспетчерская служба, ООО Петербург...   \n",
       "2  Санкт-Петербург  Аварийно-диспетчерская служба Выборгского, Кал...   \n",
       "3  Санкт-Петербург                      Аварийка.ру, аварийная служба   \n",
       "4  Санкт-Петербург        Прогресс, аварийно-восстановительная служба   \n",
       "\n",
       "                             Адрес  \\\n",
       "0                   Дыбенко, 25 к5   \n",
       "1                    Разъезжая, 46   \n",
       "2   Кондратьевский проспект, 15 к3   \n",
       "3  Набережная реки Фонтанки, 90 к5   \n",
       "4          Костромской проспект, 4   \n",
       "\n",
       "                                      Рубрика        Подрубрика  \\\n",
       "0  Аварийные / справочные / экстренные службы  Аварийные службы   \n",
       "1  Аварийные / справочные / экстренные службы  Аварийные службы   \n",
       "2  Аварийные / справочные / экстренные службы  Аварийные службы   \n",
       "3  Аварийные / справочные / экстренные службы  Аварийные службы   \n",
       "4  Аварийные / справочные / экстренные службы  Аварийные службы   \n",
       "\n",
       "                        Сайт                     Почта           Тел. 1  \\\n",
       "0      http://www.gks1nev.ru                       NaN  (812) 308-88-01   \n",
       "1     http://www.ptenergo.ru        office@ptenergo.ru  (812) 233-00-08   \n",
       "2  http://cityservice.spb.ru   cityservice@spcs.spb.ru  (812) 604-00-00   \n",
       "3     http://www.avariyca.ru        avariyca@yandex.ru  (812) 926-96-39   \n",
       "4           http://guprep.ru  progress-plan@rambler.ru  (812) 554-48-18   \n",
       "\n",
       "                           url  \\\n",
       "0      https://www.gks1nev.ru/   \n",
       "1          https://ptenergo.ru   \n",
       "2  https://cityservice.spb.ru/   \n",
       "3      http://www.avariyca.ru/   \n",
       "4            http://guprep.ru/   \n",
       "\n",
       "                                             history  https  \n",
       "0  http://www.gks1nev.ru/-301->https://www.gks1ne...   True  \n",
       "1   http://www.ptenergo.ru/-302->https://ptenergo.ru   True  \n",
       "2  http://cityservice.spb.ru/-302->https://cityse...   True  \n",
       "3                                                     False  \n",
       "4                                                     False  "
      ]
     },
     "execution_count": 17,
     "metadata": {},
     "output_type": "execute_result"
    }
   ],
   "source": [
    "df=df.drop(df[df['Рубрика']=='Город / Власть'].index)\n",
    "df.head()"
   ]
  },
  {
   "cell_type": "code",
   "execution_count": 4,
   "metadata": {},
   "outputs": [
    {
     "data": {
      "text/plain": [
       "array(['Аварийные / справочные / экстренные службы',\n",
       "       'Автосервис / Автотовары',\n",
       "       'Досуг / Развлечения / Общественное питание',\n",
       "       'Интернет / Связь / Информационные технологии',\n",
       "       'Коммунальные / бытовые / ритуальные услуги',\n",
       "       'Компьютеры / Бытовая техника / Офисная техника',\n",
       "       'Культура / Искусство / Религия', 'Мебель / Материалы / Фурнитура',\n",
       "       'Медицина / Здоровье / Красота', 'Металлы / Топливо / Химия',\n",
       "       'Оборудование / Инструмент', 'Образование / Работа / Карьера',\n",
       "       'Одежда / Обувь', 'Охрана / Безопасность',\n",
       "       'Продукты питания / Напитки', 'Реклама / Полиграфия / СМИ',\n",
       "       'Спорт / Отдых / Туризм', 'Строительные / отделочные материалы',\n",
       "       'Строительство / Недвижимость / Ремонт',\n",
       "       'Текстиль / Предметы интерьера',\n",
       "       'Товары для животных / Ветеринария',\n",
       "       'Торговые комплексы / Спецмагазины', 'Транспорт / Грузоперевозки',\n",
       "       'Хозтовары / Канцелярия / Упаковка',\n",
       "       'Электроника / Электротехника',\n",
       "       'Юридические / финансовые / бизнес-услуги'], dtype=object)"
      ]
     },
     "execution_count": 4,
     "metadata": {},
     "output_type": "execute_result"
    }
   ],
   "source": [
    "df['Рубрика'].unique()"
   ]
  },
  {
   "cell_type": "code",
   "execution_count": 9,
   "metadata": {},
   "outputs": [
    {
     "data": {
      "text/html": [
       "<div>\n",
       "<style scoped>\n",
       "    .dataframe tbody tr th:only-of-type {\n",
       "        vertical-align: middle;\n",
       "    }\n",
       "\n",
       "    .dataframe tbody tr th {\n",
       "        vertical-align: top;\n",
       "    }\n",
       "\n",
       "    .dataframe thead th {\n",
       "        text-align: right;\n",
       "    }\n",
       "</style>\n",
       "<table border=\"1\" class=\"dataframe\">\n",
       "  <thead>\n",
       "    <tr style=\"text-align: right;\">\n",
       "      <th></th>\n",
       "      <th>Город</th>\n",
       "      <th>Наименование</th>\n",
       "      <th>Адрес</th>\n",
       "      <th>Рубрика</th>\n",
       "      <th>Подрубрика</th>\n",
       "      <th>Сайт</th>\n",
       "      <th>Почта</th>\n",
       "      <th>Тел. 1</th>\n",
       "      <th>url</th>\n",
       "      <th>history</th>\n",
       "      <th>https</th>\n",
       "    </tr>\n",
       "  </thead>\n",
       "  <tbody>\n",
       "    <tr>\n",
       "      <th>0</th>\n",
       "      <td>Санкт-Петербург</td>\n",
       "      <td>Аварийно-диспетчерская служба Невского района,...</td>\n",
       "      <td>Дыбенко, 25 к5</td>\n",
       "      <td>Аварийные / справочные / экстренные службы</td>\n",
       "      <td>Аварийные службы</td>\n",
       "      <td>http://www.gks1nev.ru</td>\n",
       "      <td>NaN</td>\n",
       "      <td>(812) 308-88-01</td>\n",
       "      <td>https://www.gks1nev.ru/</td>\n",
       "      <td>http://www.gks1nev.ru/-301-&gt;https://www.gks1ne...</td>\n",
       "      <td>True</td>\n",
       "    </tr>\n",
       "    <tr>\n",
       "      <th>1</th>\n",
       "      <td>Санкт-Петербург</td>\n",
       "      <td>Центрально-диспетчерская служба, ООО Петербург...</td>\n",
       "      <td>Разъезжая, 46</td>\n",
       "      <td>Аварийные / справочные / экстренные службы</td>\n",
       "      <td>Аварийные службы</td>\n",
       "      <td>http://www.ptenergo.ru</td>\n",
       "      <td>office@ptenergo.ru</td>\n",
       "      <td>(812) 233-00-08</td>\n",
       "      <td>https://ptenergo.ru</td>\n",
       "      <td>http://www.ptenergo.ru/-302-&gt;https://ptenergo.ru</td>\n",
       "      <td>True</td>\n",
       "    </tr>\n",
       "    <tr>\n",
       "      <th>2</th>\n",
       "      <td>Санкт-Петербург</td>\n",
       "      <td>Аварийно-диспетчерская служба Выборгского, Кал...</td>\n",
       "      <td>Кондратьевский проспект, 15 к3</td>\n",
       "      <td>Аварийные / справочные / экстренные службы</td>\n",
       "      <td>Аварийные службы</td>\n",
       "      <td>http://cityservice.spb.ru</td>\n",
       "      <td>cityservice@spcs.spb.ru</td>\n",
       "      <td>(812) 604-00-00</td>\n",
       "      <td>https://cityservice.spb.ru/</td>\n",
       "      <td>http://cityservice.spb.ru/-302-&gt;https://cityse...</td>\n",
       "      <td>True</td>\n",
       "    </tr>\n",
       "    <tr>\n",
       "      <th>3</th>\n",
       "      <td>Санкт-Петербург</td>\n",
       "      <td>Аварийка.ру, аварийная служба</td>\n",
       "      <td>Набережная реки Фонтанки, 90 к5</td>\n",
       "      <td>Аварийные / справочные / экстренные службы</td>\n",
       "      <td>Аварийные службы</td>\n",
       "      <td>http://www.avariyca.ru</td>\n",
       "      <td>avariyca@yandex.ru</td>\n",
       "      <td>(812) 926-96-39</td>\n",
       "      <td>http://www.avariyca.ru/</td>\n",
       "      <td></td>\n",
       "      <td>False</td>\n",
       "    </tr>\n",
       "    <tr>\n",
       "      <th>4</th>\n",
       "      <td>Санкт-Петербург</td>\n",
       "      <td>Прогресс, аварийно-восстановительная служба</td>\n",
       "      <td>Костромской проспект, 4</td>\n",
       "      <td>Аварийные / справочные / экстренные службы</td>\n",
       "      <td>Аварийные службы</td>\n",
       "      <td>http://guprep.ru</td>\n",
       "      <td>progress-plan@rambler.ru</td>\n",
       "      <td>(812) 554-48-18</td>\n",
       "      <td>http://guprep.ru/</td>\n",
       "      <td></td>\n",
       "      <td>False</td>\n",
       "    </tr>\n",
       "  </tbody>\n",
       "</table>\n",
       "</div>"
      ],
      "text/plain": [
       "             Город                                       Наименование  \\\n",
       "0  Санкт-Петербург  Аварийно-диспетчерская служба Невского района,...   \n",
       "1  Санкт-Петербург  Центрально-диспетчерская служба, ООО Петербург...   \n",
       "2  Санкт-Петербург  Аварийно-диспетчерская служба Выборгского, Кал...   \n",
       "3  Санкт-Петербург                      Аварийка.ру, аварийная служба   \n",
       "4  Санкт-Петербург        Прогресс, аварийно-восстановительная служба   \n",
       "\n",
       "                             Адрес  \\\n",
       "0                   Дыбенко, 25 к5   \n",
       "1                    Разъезжая, 46   \n",
       "2   Кондратьевский проспект, 15 к3   \n",
       "3  Набережная реки Фонтанки, 90 к5   \n",
       "4          Костромской проспект, 4   \n",
       "\n",
       "                                      Рубрика        Подрубрика  \\\n",
       "0  Аварийные / справочные / экстренные службы  Аварийные службы   \n",
       "1  Аварийные / справочные / экстренные службы  Аварийные службы   \n",
       "2  Аварийные / справочные / экстренные службы  Аварийные службы   \n",
       "3  Аварийные / справочные / экстренные службы  Аварийные службы   \n",
       "4  Аварийные / справочные / экстренные службы  Аварийные службы   \n",
       "\n",
       "                        Сайт                     Почта           Тел. 1  \\\n",
       "0      http://www.gks1nev.ru                       NaN  (812) 308-88-01   \n",
       "1     http://www.ptenergo.ru        office@ptenergo.ru  (812) 233-00-08   \n",
       "2  http://cityservice.spb.ru   cityservice@spcs.spb.ru  (812) 604-00-00   \n",
       "3     http://www.avariyca.ru        avariyca@yandex.ru  (812) 926-96-39   \n",
       "4           http://guprep.ru  progress-plan@rambler.ru  (812) 554-48-18   \n",
       "\n",
       "                           url  \\\n",
       "0      https://www.gks1nev.ru/   \n",
       "1          https://ptenergo.ru   \n",
       "2  https://cityservice.spb.ru/   \n",
       "3      http://www.avariyca.ru/   \n",
       "4            http://guprep.ru/   \n",
       "\n",
       "                                             history  https  \n",
       "0  http://www.gks1nev.ru/-301->https://www.gks1ne...   True  \n",
       "1   http://www.ptenergo.ru/-302->https://ptenergo.ru   True  \n",
       "2  http://cityservice.spb.ru/-302->https://cityse...   True  \n",
       "3                                                     False  \n",
       "4                                                     False  "
      ]
     },
     "execution_count": 9,
     "metadata": {},
     "output_type": "execute_result"
    }
   ],
   "source": [
    "df[df['Подрубрика']=='Аварийные службы']"
   ]
  },
  {
   "cell_type": "code",
   "execution_count": 26,
   "metadata": {},
   "outputs": [
    {
     "data": {
      "text/html": [
       "<div>\n",
       "<style scoped>\n",
       "    .dataframe tbody tr th:only-of-type {\n",
       "        vertical-align: middle;\n",
       "    }\n",
       "\n",
       "    .dataframe tbody tr th {\n",
       "        vertical-align: top;\n",
       "    }\n",
       "\n",
       "    .dataframe thead th {\n",
       "        text-align: right;\n",
       "    }\n",
       "</style>\n",
       "<table border=\"1\" class=\"dataframe\">\n",
       "  <thead>\n",
       "    <tr style=\"text-align: right;\">\n",
       "      <th></th>\n",
       "      <th>Город</th>\n",
       "      <th>Наименование</th>\n",
       "      <th>Адрес</th>\n",
       "      <th>Рубрика</th>\n",
       "      <th>Подрубрика</th>\n",
       "      <th>Сайт</th>\n",
       "      <th>Почта</th>\n",
       "      <th>Тел. 1</th>\n",
       "      <th>url</th>\n",
       "      <th>history</th>\n",
       "      <th>https</th>\n",
       "    </tr>\n",
       "  </thead>\n",
       "  <tbody>\n",
       "    <tr>\n",
       "      <th>5095</th>\n",
       "      <td>Санкт-Петербург</td>\n",
       "      <td>Дом.ru Бизнес, телекоммуникационный центр, фил...</td>\n",
       "      <td>Коломяжский проспект, 27</td>\n",
       "      <td>Интернет / Связь / Информационные технологии</td>\n",
       "      <td>IP-телефония</td>\n",
       "      <td>http://www.b2b.domru.ru</td>\n",
       "      <td>b2b@ertelecom.ru</td>\n",
       "      <td>8-800-333-90-00</td>\n",
       "      <td>https://interzet.domru.ru/</td>\n",
       "      <td>http://www.b2b.domru.ru/-301-&gt;http://domru.ru-...</td>\n",
       "      <td>True</td>\n",
       "    </tr>\n",
       "    <tr>\n",
       "      <th>5096</th>\n",
       "      <td>Санкт-Петербург</td>\n",
       "      <td>ЭлектронТелеком, телекоммуникационная компания</td>\n",
       "      <td>Коломяжский проспект, 18</td>\n",
       "      <td>Интернет / Связь / Информационные технологии</td>\n",
       "      <td>IP-телефония</td>\n",
       "      <td>http://www.etelecom.ru</td>\n",
       "      <td>info@etelecom.ru;et@etelecom.ru</td>\n",
       "      <td>(812) 602-26-26</td>\n",
       "      <td>http://www.etelecom.ru/</td>\n",
       "      <td></td>\n",
       "      <td>False</td>\n",
       "    </tr>\n",
       "    <tr>\n",
       "      <th>5097</th>\n",
       "      <td>Санкт-Петербург</td>\n",
       "      <td>MNS, ООО Матрикс Интернет Клуб</td>\n",
       "      <td>Комендантский проспект, 28 к2</td>\n",
       "      <td>Интернет / Связь / Информационные технологии</td>\n",
       "      <td>IP-телефония</td>\n",
       "      <td>http://www.mns.ru</td>\n",
       "      <td>sales@mns.ru</td>\n",
       "      <td>(812) 438-46-00</td>\n",
       "      <td>http://www.mns.ru/</td>\n",
       "      <td></td>\n",
       "      <td>False</td>\n",
       "    </tr>\n",
       "    <tr>\n",
       "      <th>5098</th>\n",
       "      <td>Санкт-Петербург</td>\n",
       "      <td>КОМСТАР-Регионы, телекоммуникационная компания</td>\n",
       "      <td>Просвещения проспект, 85</td>\n",
       "      <td>Интернет / Связь / Информационные технологии</td>\n",
       "      <td>IP-телефония</td>\n",
       "      <td>http://www.dom.mts.ru</td>\n",
       "      <td>oplata@spb.mts.ru</td>\n",
       "      <td>8-800-250-08-90</td>\n",
       "      <td>https://spb.mts.ru:443/personal/dom/</td>\n",
       "      <td>http://www.dom.mts.ru/-302-&gt;http://www.mts.ru/...</td>\n",
       "      <td>True</td>\n",
       "    </tr>\n",
       "    <tr>\n",
       "      <th>5099</th>\n",
       "      <td>Санкт-Петербург</td>\n",
       "      <td>Петербургская Интернет Сеть, телекоммуникацион...</td>\n",
       "      <td>Обуховской Обороны проспект, 120 лит Б</td>\n",
       "      <td>Интернет / Связь / Информационные технологии</td>\n",
       "      <td>IP-телефония</td>\n",
       "      <td>http://www.pinspb.ru</td>\n",
       "      <td>info@pinspb.ru</td>\n",
       "      <td>(812) 677-25-25</td>\n",
       "      <td>https://pinspb.ru//</td>\n",
       "      <td>http://www.pinspb.ru/-301-&gt;https://pinspb.ru//</td>\n",
       "      <td>True</td>\n",
       "    </tr>\n",
       "  </tbody>\n",
       "</table>\n",
       "</div>"
      ],
      "text/plain": [
       "                Город                                       Наименование  \\\n",
       "5095  Санкт-Петербург  Дом.ru Бизнес, телекоммуникационный центр, фил...   \n",
       "5096  Санкт-Петербург     ЭлектронТелеком, телекоммуникационная компания   \n",
       "5097  Санкт-Петербург                     MNS, ООО Матрикс Интернет Клуб   \n",
       "5098  Санкт-Петербург     КОМСТАР-Регионы, телекоммуникационная компания   \n",
       "5099  Санкт-Петербург  Петербургская Интернет Сеть, телекоммуникацион...   \n",
       "\n",
       "                                       Адрес  \\\n",
       "5095                Коломяжский проспект, 27   \n",
       "5096                Коломяжский проспект, 18   \n",
       "5097           Комендантский проспект, 28 к2   \n",
       "5098                Просвещения проспект, 85   \n",
       "5099  Обуховской Обороны проспект, 120 лит Б   \n",
       "\n",
       "                                           Рубрика    Подрубрика  \\\n",
       "5095  Интернет / Связь / Информационные технологии  IP-телефония   \n",
       "5096  Интернет / Связь / Информационные технологии  IP-телефония   \n",
       "5097  Интернет / Связь / Информационные технологии  IP-телефония   \n",
       "5098  Интернет / Связь / Информационные технологии  IP-телефония   \n",
       "5099  Интернет / Связь / Информационные технологии  IP-телефония   \n",
       "\n",
       "                         Сайт                            Почта  \\\n",
       "5095  http://www.b2b.domru.ru                 b2b@ertelecom.ru   \n",
       "5096   http://www.etelecom.ru  info@etelecom.ru;et@etelecom.ru   \n",
       "5097        http://www.mns.ru                     sales@mns.ru   \n",
       "5098    http://www.dom.mts.ru                oplata@spb.mts.ru   \n",
       "5099     http://www.pinspb.ru                   info@pinspb.ru   \n",
       "\n",
       "               Тел. 1                                   url  \\\n",
       "5095  8-800-333-90-00            https://interzet.domru.ru/   \n",
       "5096  (812) 602-26-26               http://www.etelecom.ru/   \n",
       "5097  (812) 438-46-00                    http://www.mns.ru/   \n",
       "5098  8-800-250-08-90  https://spb.mts.ru:443/personal/dom/   \n",
       "5099  (812) 677-25-25                   https://pinspb.ru//   \n",
       "\n",
       "                                                history  https  \n",
       "5095  http://www.b2b.domru.ru/-301->http://domru.ru-...   True  \n",
       "5096                                                     False  \n",
       "5097                                                     False  \n",
       "5098  http://www.dom.mts.ru/-302->http://www.mts.ru/...   True  \n",
       "5099     http://www.pinspb.ru/-301->https://pinspb.ru//   True  "
      ]
     },
     "execution_count": 26,
     "metadata": {},
     "output_type": "execute_result"
    }
   ],
   "source": [
    "df[df['Рубрика']=='Интернет / Связь / Информационные технологии'].head()"
   ]
  },
  {
   "cell_type": "code",
   "execution_count": 43,
   "metadata": {},
   "outputs": [
    {
     "data": {
      "text/html": [
       "<div>\n",
       "<style scoped>\n",
       "    .dataframe tbody tr th:only-of-type {\n",
       "        vertical-align: middle;\n",
       "    }\n",
       "\n",
       "    .dataframe tbody tr th {\n",
       "        vertical-align: top;\n",
       "    }\n",
       "\n",
       "    .dataframe thead th {\n",
       "        text-align: right;\n",
       "    }\n",
       "</style>\n",
       "<table border=\"1\" class=\"dataframe\">\n",
       "  <thead>\n",
       "    <tr style=\"text-align: right;\">\n",
       "      <th></th>\n",
       "      <th>Город</th>\n",
       "      <th>Наименование</th>\n",
       "      <th>Адрес</th>\n",
       "      <th>Рубрика</th>\n",
       "      <th>Подрубрика</th>\n",
       "      <th>Сайт</th>\n",
       "      <th>Почта</th>\n",
       "      <th>Тел. 1</th>\n",
       "      <th>url</th>\n",
       "      <th>history</th>\n",
       "      <th>https</th>\n",
       "    </tr>\n",
       "  </thead>\n",
       "  <tbody>\n",
       "    <tr>\n",
       "      <th>count</th>\n",
       "      <td>39537</td>\n",
       "      <td>39537</td>\n",
       "      <td>38626</td>\n",
       "      <td>39537</td>\n",
       "      <td>39537</td>\n",
       "      <td>39537</td>\n",
       "      <td>32919</td>\n",
       "      <td>32899</td>\n",
       "      <td>39535</td>\n",
       "      <td>32208</td>\n",
       "      <td>39537</td>\n",
       "    </tr>\n",
       "    <tr>\n",
       "      <th>unique</th>\n",
       "      <td>1</td>\n",
       "      <td>39392</td>\n",
       "      <td>13317</td>\n",
       "      <td>26</td>\n",
       "      <td>949</td>\n",
       "      <td>39537</td>\n",
       "      <td>32693</td>\n",
       "      <td>32445</td>\n",
       "      <td>38672</td>\n",
       "      <td>13461</td>\n",
       "      <td>2</td>\n",
       "    </tr>\n",
       "    <tr>\n",
       "      <th>top</th>\n",
       "      <td>Санкт-Петербург</td>\n",
       "      <td>СПбГУ, Санкт-Петербургский государственный уни...</td>\n",
       "      <td>Варшавская, 3 к1</td>\n",
       "      <td>Строительство / Недвижимость / Ремонт</td>\n",
       "      <td>Туристические агентства</td>\n",
       "      <td>http://www.autoralf.ru</td>\n",
       "      <td>cardiomedika@inbox.ru</td>\n",
       "      <td>(812) 328-20-00</td>\n",
       "      <td>Error! HTTPSConnectionPool(host='faitid.org', ...</td>\n",
       "      <td></td>\n",
       "      <td>False</td>\n",
       "    </tr>\n",
       "    <tr>\n",
       "      <th>freq</th>\n",
       "      <td>39537</td>\n",
       "      <td>15</td>\n",
       "      <td>125</td>\n",
       "      <td>3201</td>\n",
       "      <td>867</td>\n",
       "      <td>1</td>\n",
       "      <td>6</td>\n",
       "      <td>15</td>\n",
       "      <td>411</td>\n",
       "      <td>18748</td>\n",
       "      <td>32036</td>\n",
       "    </tr>\n",
       "  </tbody>\n",
       "</table>\n",
       "</div>"
      ],
      "text/plain": [
       "                  Город                                       Наименование  \\\n",
       "count             39537                                              39537   \n",
       "unique                1                                              39392   \n",
       "top     Санкт-Петербург  СПбГУ, Санкт-Петербургский государственный уни...   \n",
       "freq              39537                                                 15   \n",
       "\n",
       "                   Адрес                                Рубрика  \\\n",
       "count              38626                                  39537   \n",
       "unique             13317                                     26   \n",
       "top     Варшавская, 3 к1  Строительство / Недвижимость / Ремонт   \n",
       "freq                 125                                   3201   \n",
       "\n",
       "                     Подрубрика                    Сайт  \\\n",
       "count                     39537                   39537   \n",
       "unique                      949                   39537   \n",
       "top     Туристические агентства  http://www.autoralf.ru   \n",
       "freq                        867                       1   \n",
       "\n",
       "                        Почта           Тел. 1  \\\n",
       "count                   32919            32899   \n",
       "unique                  32693            32445   \n",
       "top     cardiomedika@inbox.ru  (812) 328-20-00   \n",
       "freq                        6               15   \n",
       "\n",
       "                                                      url history  https  \n",
       "count                                               39535   32208  39537  \n",
       "unique                                              38672   13461      2  \n",
       "top     Error! HTTPSConnectionPool(host='faitid.org', ...          False  \n",
       "freq                                                  411   18748  32036  "
      ]
     },
     "execution_count": 43,
     "metadata": {},
     "output_type": "execute_result"
    }
   ],
   "source": [
    "df.describe()"
   ]
  }
 ],
 "metadata": {
  "kernelspec": {
   "display_name": "Python 3",
   "language": "python",
   "name": "python3"
  },
  "language_info": {
   "codemirror_mode": {
    "name": "ipython",
    "version": 3
   },
   "file_extension": ".py",
   "mimetype": "text/x-python",
   "name": "python",
   "nbconvert_exporter": "python",
   "pygments_lexer": "ipython3",
   "version": "3.7.6"
  }
 },
 "nbformat": 4,
 "nbformat_minor": 2
}
