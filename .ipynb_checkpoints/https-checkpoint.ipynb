{
 "cells": [
  {
   "cell_type": "markdown",
   "metadata": {
    "collapsed": true
   },
   "source": [
    "# Исследование влияния защищенного протокола HTTPS на позицию сайта в Яндексе\n",
    "       "
   ]
  },
  {
   "cell_type": "code",
   "execution_count": 1,
   "metadata": {
    "collapsed": true
   },
   "outputs": [],
   "source": [
    "# Рисовать графики сразу же\n",
    "%matplotlib inline\n",
    "import os\n",
    "import pandas as pd\n",
    "import matplotlib.pyplot as plt\n",
    "import numpy as np\n",
    "\n",
    "plt.style.use('ggplot')  # Красивые графики\n",
    "plt.rcParams['figure.figsize'] = (15, 5)  # Размер картинок"
   ]
  },
  {
   "cell_type": "markdown",
   "metadata": {},
   "source": [
    "Возьмем для анализа данные выдачи для 171-го запроса по тематике \"seo продвижение\""
   ]
  },
  {
   "cell_type": "code",
   "execution_count": 2,
   "metadata": {
    "collapsed": true
   },
   "outputs": [],
   "source": [
    "# путь к папке в которой находятся архивы seranking\n",
    "path='data/2018-08-15/88/'"
   ]
  },
  {
   "cell_type": "code",
   "execution_count": 28,
   "metadata": {},
   "outputs": [
    {
     "data": {
      "application/vnd.jupyter.widget-view+json": {
       "model_id": "fd37f9071ec847c0831cdbb3e9105e1f",
       "version_major": 2,
       "version_minor": 0
      },
      "text/plain": [
       "A Jupyter Widget"
      ]
     },
     "metadata": {},
     "output_type": "display_data"
    },
    {
     "name": "stdout",
     "output_type": "stream",
     "text": [
      "\n"
     ]
    }
   ],
   "source": [
    "# Распакуем архивы\n",
    "\n",
    "import gzip\n",
    "import os\n",
    "from tqdm import tnrange, tqdm_notebook, tqdm\n",
    "\n",
    "# путь к папке в которой находятся архивы seranking\n",
    "path='data/2018-08-15/61/'\n",
    "\n",
    "# Распаковка всех архивных файлов *.gz из папки 'path'\n",
    "for i in tnrange(len(os.listdir(path))):\n",
    "    files=os.listdir(path)[i]\n",
    "    if files[-4:].find('.gz')>-1:\n",
    "        with gzip.open(path+files, 'rb') as in_file:\n",
    "            s = in_file.read()\n",
    "            # Now store the uncompressed data\n",
    "            path_to_store = files[:-3]  # remove the '.gz' from the filename\n",
    "            # store uncompressed file data from 's' variable\n",
    "            with open(path+path_to_store, 'wb') as f:\n",
    "                f.write(s)"
   ]
  },
  {
   "cell_type": "code",
   "execution_count": 40,
   "metadata": {},
   "outputs": [
    {
     "data": {
      "application/vnd.jupyter.widget-view+json": {
       "model_id": "144acaaa6af9453a88a68c6b2a588058",
       "version_major": 2,
       "version_minor": 0
      },
      "text/plain": [
       "A Jupyter Widget"
      ]
     },
     "metadata": {},
     "output_type": "display_data"
    },
    {
     "name": "stdout",
     "output_type": "stream",
     "text": [
      "\n"
     ]
    }
   ],
   "source": [
    "# Преобразуем файл seranking.html обратно к формату xml yandex\n",
    "\n",
    "#path='data/2018-08-15/61/'\n",
    "\n",
    "def dumpseranktoxml(dump):\n",
    "    \"\"\"функция для преобразования dump файла выдачи созданных seranking в xmlyandex\"\"\"\n",
    "    if dump[-4:].find('html')>-1:\n",
    "        i = open(dump, encoding=\"utf8\") # чтение файла\n",
    "        lines=i.readlines()  # получаем список состоящие из строк файла\n",
    "        lines[0]=lines[0][-39:] # удаляем лишний код из первой строки\n",
    "        newname=dump[:-4]+'xml'  # новое имя файла с новым расширением xml\n",
    "        i.close()\n",
    "        # создание файла xml \n",
    "        o = open(newname, 'w', encoding=\"utf8\")\n",
    "        o.writelines(lines)\n",
    "        o.close()\n",
    "    return\n",
    "\n",
    "for i in tnrange(3400, len(os.listdir(path))):\n",
    "    files=os.listdir(path)[i]\n",
    "    dumpseranktoxml(path+files)"
   ]
  },
  {
   "cell_type": "markdown",
   "metadata": {},
   "source": [
    "Импортируем данные из всех xml файлов выдачи в таублицу dataframe"
   ]
  },
  {
   "cell_type": "code",
   "execution_count": 41,
   "metadata": {},
   "outputs": [
    {
     "data": {
      "application/vnd.jupyter.widget-view+json": {
       "model_id": "d70339eceac14a40878acb69a94f3eb4",
       "version_major": 2,
       "version_minor": 0
      },
      "text/plain": [
       "A Jupyter Widget"
      ]
     },
     "metadata": {},
     "output_type": "display_data"
    },
    {
     "name": "stdout",
     "output_type": "stream",
     "text": [
      "\n"
     ]
    },
    {
     "data": {
      "application/vnd.jupyter.widget-view+json": {
       "model_id": "e2f6f1dda1064e6eb480465f65875434",
       "version_major": 2,
       "version_minor": 0
      },
      "text/plain": [
       "A Jupyter Widget"
      ]
     },
     "metadata": {},
     "output_type": "display_data"
    },
    {
     "name": "stdout",
     "output_type": "stream",
     "text": [
      "\n",
      "<class 'pandas.core.frame.DataFrame'>\n",
      "RangeIndex: 93430 entries, 0 to 93429\n",
      "Data columns (total 8 columns):\n",
      "query        93430 non-null object\n",
      "pos          93430 non-null int64\n",
      "url          93428 non-null object\n",
      "doccount     93428 non-null float64\n",
      "size         93428 non-null float64\n",
      "domain       93428 non-null object\n",
      "charset      93428 non-null object\n",
      "mime-type    93428 non-null object\n",
      "dtypes: float64(2), int64(1), object(5)\n",
      "memory usage: 5.7+ MB\n",
      "Wall time: 8min 12s\n"
     ]
    }
   ],
   "source": [
    "%%time\n",
    "import os\n",
    "import xml.etree.cElementTree as et # импортируем модуль для работы с xml\n",
    "import pandas as pd # импортируем модуль для анализа данных и создания таблиц\n",
    "from tqdm import tnrange, tqdm_notebook, tqdm\n",
    "\n",
    "def xmltodataframe(file, dataframe):\n",
    "    \"\"\"\n",
    "    функция преобразования xmlyandex в dataframe таблицу\n",
    "    file -  путь к файлу xmlyandex, \n",
    "    dataframe - желательно пустой \n",
    "    \"\"\"\n",
    "    parsedXML = et.parse(file) # парсим файл xml\n",
    "    root=parsedXML.getroot() # для работы с данными нам нужен объект не дерево, а корневой узел.\n",
    "    sitesonpage=int(root[1][5][0][7].attrib['last'])-int(root[1][5][0][7].attrib['first'])+1\n",
    "    dataframe[root[0][0].tag]=[root[0][0].text]*sitesonpage # создаем первую колонку с запросом 100=last=\"300\" - first=\"201\"\n",
    "    dataframe['pos']=dataframe.index+int(root[1][5][0][7].attrib['first']) # добавляем колонку позиция = range(first, last)\n",
    "\n",
    "    def addcolumn(root, tag, dataframe): \n",
    "        \"\"\"функцию, которая добавляет столбец в таблицу\"\"\"\n",
    "        series = pd.Series() # таблица\n",
    "        for i in root.iter(tag):\n",
    "            series = series.append(pd.Series([i.text]), ignore_index=True)   \n",
    "        dataframe[tag]=series\n",
    "        return\n",
    "\n",
    "    # создаем список тегов, данные которых нужно добавить в таблицу\n",
    "    tag= ['url', 'doccount', 'size', 'domain', 'charset', 'mime-type'] \n",
    "    for i in tag: #добавлям столбцы в таблицу\n",
    "        addcolumn(root, i, dataframe)\n",
    "    return\n",
    "\n",
    "path='data/2018-08-15/61/'\n",
    "\n",
    "files=os.listdir(path)\n",
    "xmlfiles=[]\n",
    "\n",
    "for i in tnrange(len(files), desc='список xml'):\n",
    "    if files[i].find('xml')>=0:\n",
    "        if files[i].find('error')<0:\n",
    "            xmlfiles.append(files[i])\n",
    "        \n",
    "df = pd.DataFrame()\n",
    "\n",
    "for i in tnrange(len(xmlfiles), desc='xml в dataframe'):\n",
    "    d =path+xmlfiles[i]\n",
    "    df_temp = pd.DataFrame()\n",
    "    xmltodataframe(d,df_temp)\n",
    "    df=df.append(df_temp, ignore_index=True)\n",
    "\n",
    "#df.dropna(how='any')\n",
    "df['doccount'] = df['doccount'].astype('float')\n",
    "df['size'] = df['size'].astype('float')\n",
    "df.info()\n",
    "    "
   ]
  },
  {
   "cell_type": "markdown",
   "metadata": {},
   "source": [
    "Мы получили данные выдачи, всего 93428 позиций и релевантных страниц\n",
    "\n",
    "Извлечем признак номер страницы при выдаче по 10 сайтов на страницу."
   ]
  },
  {
   "cell_type": "code",
   "execution_count": 42,
   "metadata": {},
   "outputs": [
    {
     "data": {
      "text/html": [
       "<div>\n",
       "<style scoped>\n",
       "    .dataframe tbody tr th:only-of-type {\n",
       "        vertical-align: middle;\n",
       "    }\n",
       "\n",
       "    .dataframe tbody tr th {\n",
       "        vertical-align: top;\n",
       "    }\n",
       "\n",
       "    .dataframe thead th {\n",
       "        text-align: right;\n",
       "    }\n",
       "</style>\n",
       "<table border=\"1\" class=\"dataframe\">\n",
       "  <thead>\n",
       "    <tr style=\"text-align: right;\">\n",
       "      <th></th>\n",
       "      <th>query</th>\n",
       "      <th>pos</th>\n",
       "      <th>url</th>\n",
       "      <th>doccount</th>\n",
       "      <th>size</th>\n",
       "      <th>domain</th>\n",
       "      <th>charset</th>\n",
       "      <th>mime-type</th>\n",
       "      <th>page</th>\n",
       "    </tr>\n",
       "  </thead>\n",
       "  <tbody>\n",
       "    <tr>\n",
       "      <th>0</th>\n",
       "      <td>seo оптимизация сайта заказать</td>\n",
       "      <td>1</td>\n",
       "      <td>https://kwork.ru/categories/optimization</td>\n",
       "      <td>6129.0</td>\n",
       "      <td>2976.0</td>\n",
       "      <td>kwork.ru</td>\n",
       "      <td>utf-8</td>\n",
       "      <td>text/html</td>\n",
       "      <td>1</td>\n",
       "    </tr>\n",
       "    <tr>\n",
       "      <th>1</th>\n",
       "      <td>seo оптимизация сайта заказать</td>\n",
       "      <td>2</td>\n",
       "      <td>https://divly.ru/seo</td>\n",
       "      <td>4.0</td>\n",
       "      <td>1795.0</td>\n",
       "      <td>divly.ru</td>\n",
       "      <td>utf-8</td>\n",
       "      <td>text/html</td>\n",
       "      <td>1</td>\n",
       "    </tr>\n",
       "    <tr>\n",
       "      <th>2</th>\n",
       "      <td>seo оптимизация сайта заказать</td>\n",
       "      <td>3</td>\n",
       "      <td>https://optimizator.su/optimization/</td>\n",
       "      <td>34.0</td>\n",
       "      <td>2248.0</td>\n",
       "      <td>optimizator.su</td>\n",
       "      <td>utf-8</td>\n",
       "      <td>text/html</td>\n",
       "      <td>1</td>\n",
       "    </tr>\n",
       "    <tr>\n",
       "      <th>3</th>\n",
       "      <td>seo оптимизация сайта заказать</td>\n",
       "      <td>4</td>\n",
       "      <td>http://freelance.youdo.com/marketing/seo/optim...</td>\n",
       "      <td>168.0</td>\n",
       "      <td>2849.0</td>\n",
       "      <td>freelance.youdo.com</td>\n",
       "      <td>utf-8</td>\n",
       "      <td>text/html</td>\n",
       "      <td>1</td>\n",
       "    </tr>\n",
       "    <tr>\n",
       "      <th>4</th>\n",
       "      <td>seo оптимизация сайта заказать</td>\n",
       "      <td>5</td>\n",
       "      <td>https://seoXL.ru/seo_optimizacija_sajta/</td>\n",
       "      <td>18.0</td>\n",
       "      <td>1321.0</td>\n",
       "      <td>seoXL.ru</td>\n",
       "      <td>utf-8</td>\n",
       "      <td>text/html</td>\n",
       "      <td>1</td>\n",
       "    </tr>\n",
       "  </tbody>\n",
       "</table>\n",
       "</div>"
      ],
      "text/plain": [
       "                            query  pos  \\\n",
       "0  seo оптимизация сайта заказать    1   \n",
       "1  seo оптимизация сайта заказать    2   \n",
       "2  seo оптимизация сайта заказать    3   \n",
       "3  seo оптимизация сайта заказать    4   \n",
       "4  seo оптимизация сайта заказать    5   \n",
       "\n",
       "                                                 url  doccount    size  \\\n",
       "0           https://kwork.ru/categories/optimization    6129.0  2976.0   \n",
       "1                               https://divly.ru/seo       4.0  1795.0   \n",
       "2               https://optimizator.su/optimization/      34.0  2248.0   \n",
       "3  http://freelance.youdo.com/marketing/seo/optim...     168.0  2849.0   \n",
       "4           https://seoXL.ru/seo_optimizacija_sajta/      18.0  1321.0   \n",
       "\n",
       "                domain charset  mime-type  page  \n",
       "0             kwork.ru   utf-8  text/html     1  \n",
       "1             divly.ru   utf-8  text/html     1  \n",
       "2       optimizator.su   utf-8  text/html     1  \n",
       "3  freelance.youdo.com   utf-8  text/html     1  \n",
       "4             seoXL.ru   utf-8  text/html     1  "
      ]
     },
     "execution_count": 42,
     "metadata": {},
     "output_type": "execute_result"
    }
   ],
   "source": [
    "def pageof10(pos):\n",
    "    return int('0'+str(pos-1)[:-1])+1\n",
    "df['page']=df.pos.apply(pageof10)\n",
    "df.head()"
   ]
  },
  {
   "cell_type": "markdown",
   "metadata": {},
   "source": [
    "Извлечем признак наличия у сайта безопасного соединения https"
   ]
  },
  {
   "cell_type": "code",
   "execution_count": 43,
   "metadata": {},
   "outputs": [
    {
     "data": {
      "text/html": [
       "<div>\n",
       "<style scoped>\n",
       "    .dataframe tbody tr th:only-of-type {\n",
       "        vertical-align: middle;\n",
       "    }\n",
       "\n",
       "    .dataframe tbody tr th {\n",
       "        vertical-align: top;\n",
       "    }\n",
       "\n",
       "    .dataframe thead th {\n",
       "        text-align: right;\n",
       "    }\n",
       "</style>\n",
       "<table border=\"1\" class=\"dataframe\">\n",
       "  <thead>\n",
       "    <tr style=\"text-align: right;\">\n",
       "      <th></th>\n",
       "      <th>query</th>\n",
       "      <th>pos</th>\n",
       "      <th>url</th>\n",
       "      <th>doccount</th>\n",
       "      <th>size</th>\n",
       "      <th>domain</th>\n",
       "      <th>charset</th>\n",
       "      <th>mime-type</th>\n",
       "      <th>page</th>\n",
       "      <th>https</th>\n",
       "    </tr>\n",
       "  </thead>\n",
       "  <tbody>\n",
       "    <tr>\n",
       "      <th>0</th>\n",
       "      <td>seo оптимизация сайта заказать</td>\n",
       "      <td>1</td>\n",
       "      <td>https://kwork.ru/categories/optimization</td>\n",
       "      <td>6129.0</td>\n",
       "      <td>2976.0</td>\n",
       "      <td>kwork.ru</td>\n",
       "      <td>utf-8</td>\n",
       "      <td>text/html</td>\n",
       "      <td>1</td>\n",
       "      <td>True</td>\n",
       "    </tr>\n",
       "    <tr>\n",
       "      <th>1</th>\n",
       "      <td>seo оптимизация сайта заказать</td>\n",
       "      <td>2</td>\n",
       "      <td>https://divly.ru/seo</td>\n",
       "      <td>4.0</td>\n",
       "      <td>1795.0</td>\n",
       "      <td>divly.ru</td>\n",
       "      <td>utf-8</td>\n",
       "      <td>text/html</td>\n",
       "      <td>1</td>\n",
       "      <td>True</td>\n",
       "    </tr>\n",
       "    <tr>\n",
       "      <th>2</th>\n",
       "      <td>seo оптимизация сайта заказать</td>\n",
       "      <td>3</td>\n",
       "      <td>https://optimizator.su/optimization/</td>\n",
       "      <td>34.0</td>\n",
       "      <td>2248.0</td>\n",
       "      <td>optimizator.su</td>\n",
       "      <td>utf-8</td>\n",
       "      <td>text/html</td>\n",
       "      <td>1</td>\n",
       "      <td>True</td>\n",
       "    </tr>\n",
       "    <tr>\n",
       "      <th>3</th>\n",
       "      <td>seo оптимизация сайта заказать</td>\n",
       "      <td>4</td>\n",
       "      <td>http://freelance.youdo.com/marketing/seo/optim...</td>\n",
       "      <td>168.0</td>\n",
       "      <td>2849.0</td>\n",
       "      <td>freelance.youdo.com</td>\n",
       "      <td>utf-8</td>\n",
       "      <td>text/html</td>\n",
       "      <td>1</td>\n",
       "      <td>False</td>\n",
       "    </tr>\n",
       "    <tr>\n",
       "      <th>4</th>\n",
       "      <td>seo оптимизация сайта заказать</td>\n",
       "      <td>5</td>\n",
       "      <td>https://seoXL.ru/seo_optimizacija_sajta/</td>\n",
       "      <td>18.0</td>\n",
       "      <td>1321.0</td>\n",
       "      <td>seoXL.ru</td>\n",
       "      <td>utf-8</td>\n",
       "      <td>text/html</td>\n",
       "      <td>1</td>\n",
       "      <td>True</td>\n",
       "    </tr>\n",
       "  </tbody>\n",
       "</table>\n",
       "</div>"
      ],
      "text/plain": [
       "                            query  pos  \\\n",
       "0  seo оптимизация сайта заказать    1   \n",
       "1  seo оптимизация сайта заказать    2   \n",
       "2  seo оптимизация сайта заказать    3   \n",
       "3  seo оптимизация сайта заказать    4   \n",
       "4  seo оптимизация сайта заказать    5   \n",
       "\n",
       "                                                 url  doccount    size  \\\n",
       "0           https://kwork.ru/categories/optimization    6129.0  2976.0   \n",
       "1                               https://divly.ru/seo       4.0  1795.0   \n",
       "2               https://optimizator.su/optimization/      34.0  2248.0   \n",
       "3  http://freelance.youdo.com/marketing/seo/optim...     168.0  2849.0   \n",
       "4           https://seoXL.ru/seo_optimizacija_sajta/      18.0  1321.0   \n",
       "\n",
       "                domain charset  mime-type  page  https  \n",
       "0             kwork.ru   utf-8  text/html     1   True  \n",
       "1             divly.ru   utf-8  text/html     1   True  \n",
       "2       optimizator.su   utf-8  text/html     1   True  \n",
       "3  freelance.youdo.com   utf-8  text/html     1  False  \n",
       "4             seoXL.ru   utf-8  text/html     1   True  "
      ]
     },
     "execution_count": 43,
     "metadata": {},
     "output_type": "execute_result"
    }
   ],
   "source": [
    "df['https']=df.url.str.find('https')>-1\n",
    "df.head()"
   ]
  },
  {
   "cell_type": "code",
   "execution_count": 2,
   "metadata": {},
   "outputs": [
    {
     "data": {
      "text/html": [
       "<div>\n",
       "<style scoped>\n",
       "    .dataframe tbody tr th:only-of-type {\n",
       "        vertical-align: middle;\n",
       "    }\n",
       "\n",
       "    .dataframe tbody tr th {\n",
       "        vertical-align: top;\n",
       "    }\n",
       "\n",
       "    .dataframe thead th {\n",
       "        text-align: right;\n",
       "    }\n",
       "</style>\n",
       "<table border=\"1\" class=\"dataframe\">\n",
       "  <thead>\n",
       "    <tr style=\"text-align: right;\">\n",
       "      <th></th>\n",
       "      <th>query</th>\n",
       "      <th>pos</th>\n",
       "      <th>url</th>\n",
       "      <th>doccount</th>\n",
       "      <th>size</th>\n",
       "      <th>domain</th>\n",
       "      <th>charset</th>\n",
       "      <th>mime-type</th>\n",
       "      <th>page</th>\n",
       "      <th>https</th>\n",
       "    </tr>\n",
       "  </thead>\n",
       "  <tbody>\n",
       "    <tr>\n",
       "      <th>0</th>\n",
       "      <td>seo оптимизация сайта заказать</td>\n",
       "      <td>1</td>\n",
       "      <td>https://kwork.ru/categories/optimization</td>\n",
       "      <td>6129.0</td>\n",
       "      <td>2976.0</td>\n",
       "      <td>kwork.ru</td>\n",
       "      <td>utf-8</td>\n",
       "      <td>text/html</td>\n",
       "      <td>1</td>\n",
       "      <td>True</td>\n",
       "    </tr>\n",
       "    <tr>\n",
       "      <th>1</th>\n",
       "      <td>seo оптимизация сайта заказать</td>\n",
       "      <td>2</td>\n",
       "      <td>https://divly.ru/seo</td>\n",
       "      <td>4.0</td>\n",
       "      <td>1795.0</td>\n",
       "      <td>divly.ru</td>\n",
       "      <td>utf-8</td>\n",
       "      <td>text/html</td>\n",
       "      <td>1</td>\n",
       "      <td>True</td>\n",
       "    </tr>\n",
       "    <tr>\n",
       "      <th>2</th>\n",
       "      <td>seo оптимизация сайта заказать</td>\n",
       "      <td>3</td>\n",
       "      <td>https://optimizator.su/optimization/</td>\n",
       "      <td>34.0</td>\n",
       "      <td>2248.0</td>\n",
       "      <td>optimizator.su</td>\n",
       "      <td>utf-8</td>\n",
       "      <td>text/html</td>\n",
       "      <td>1</td>\n",
       "      <td>True</td>\n",
       "    </tr>\n",
       "    <tr>\n",
       "      <th>3</th>\n",
       "      <td>seo оптимизация сайта заказать</td>\n",
       "      <td>4</td>\n",
       "      <td>http://freelance.youdo.com/marketing/seo/optim...</td>\n",
       "      <td>168.0</td>\n",
       "      <td>2849.0</td>\n",
       "      <td>freelance.youdo.com</td>\n",
       "      <td>utf-8</td>\n",
       "      <td>text/html</td>\n",
       "      <td>1</td>\n",
       "      <td>False</td>\n",
       "    </tr>\n",
       "    <tr>\n",
       "      <th>4</th>\n",
       "      <td>seo оптимизация сайта заказать</td>\n",
       "      <td>5</td>\n",
       "      <td>https://seoXL.ru/seo_optimizacija_sajta/</td>\n",
       "      <td>18.0</td>\n",
       "      <td>1321.0</td>\n",
       "      <td>seoXL.ru</td>\n",
       "      <td>utf-8</td>\n",
       "      <td>text/html</td>\n",
       "      <td>1</td>\n",
       "      <td>True</td>\n",
       "    </tr>\n",
       "  </tbody>\n",
       "</table>\n",
       "</div>"
      ],
      "text/plain": [
       "                            query  pos  \\\n",
       "0  seo оптимизация сайта заказать    1   \n",
       "1  seo оптимизация сайта заказать    2   \n",
       "2  seo оптимизация сайта заказать    3   \n",
       "3  seo оптимизация сайта заказать    4   \n",
       "4  seo оптимизация сайта заказать    5   \n",
       "\n",
       "                                                 url  doccount    size  \\\n",
       "0           https://kwork.ru/categories/optimization    6129.0  2976.0   \n",
       "1                               https://divly.ru/seo       4.0  1795.0   \n",
       "2               https://optimizator.su/optimization/      34.0  2248.0   \n",
       "3  http://freelance.youdo.com/marketing/seo/optim...     168.0  2849.0   \n",
       "4           https://seoXL.ru/seo_optimizacija_sajta/      18.0  1321.0   \n",
       "\n",
       "                domain charset  mime-type  page  https  \n",
       "0             kwork.ru   utf-8  text/html     1   True  \n",
       "1             divly.ru   utf-8  text/html     1   True  \n",
       "2       optimizator.su   utf-8  text/html     1   True  \n",
       "3  freelance.youdo.com   utf-8  text/html     1  False  \n",
       "4             seoXL.ru   utf-8  text/html     1   True  "
      ]
     },
     "execution_count": 2,
     "metadata": {},
     "output_type": "execute_result"
    }
   ],
   "source": [
    "#df=pd.read_pickle('https.pkl')\n",
    "#, lineterminator='\\n')\n",
    "df.head()"
   ]
  },
  {
   "cell_type": "markdown",
   "metadata": {},
   "source": [
    "Посмотри на долю https сайтов в ТОП 10 Яндекса"
   ]
  },
  {
   "cell_type": "code",
   "execution_count": 44,
   "metadata": {},
   "outputs": [
    {
     "data": {
      "text/plain": [
       "True     1289\n",
       "False     421\n",
       "Name: https, dtype: int64"
      ]
     },
     "execution_count": 44,
     "metadata": {},
     "output_type": "execute_result"
    }
   ],
   "source": [
    "df[df.pos<11]['https'].value_counts()"
   ]
  },
  {
   "cell_type": "markdown",
   "metadata": {},
   "source": [
    "В нашей выборке 1289 сайтов используют безопасное https соединение, и 421 используют обычное http.\n",
    "\n",
    "Сравним с распределение признака у сайтов вне ТОП 10 Яндекса"
   ]
  },
  {
   "cell_type": "code",
   "execution_count": 45,
   "metadata": {},
   "outputs": [
    {
     "data": {
      "text/plain": [
       "False    47714\n",
       "True     44006\n",
       "Name: https, dtype: int64"
      ]
     },
     "execution_count": 45,
     "metadata": {},
     "output_type": "execute_result"
    }
   ],
   "source": [
    "df[df.pos>10]['https'].value_counts()"
   ]
  },
  {
   "cell_type": "markdown",
   "metadata": {},
   "source": [
    "Делится примерно по ровно 47714 - http, и сайтов 44006 - https\n",
    "\n",
    "Посмотрем на распределение типа соединения по страницам. Примечание: На одной странице поисковой выдаче по 10 сайтов. "
   ]
  },
  {
   "cell_type": "code",
   "execution_count": 46,
   "metadata": {},
   "outputs": [
    {
     "data": {
      "text/html": [
       "<div>\n",
       "<style scoped>\n",
       "    .dataframe tbody tr th:only-of-type {\n",
       "        vertical-align: middle;\n",
       "    }\n",
       "\n",
       "    .dataframe tbody tr th {\n",
       "        vertical-align: top;\n",
       "    }\n",
       "\n",
       "    .dataframe thead th {\n",
       "        text-align: right;\n",
       "    }\n",
       "</style>\n",
       "<table border=\"1\" class=\"dataframe\">\n",
       "  <thead>\n",
       "    <tr style=\"text-align: right;\">\n",
       "      <th>page</th>\n",
       "      <th>1</th>\n",
       "      <th>2</th>\n",
       "      <th>3</th>\n",
       "      <th>4</th>\n",
       "      <th>5</th>\n",
       "      <th>6</th>\n",
       "      <th>7</th>\n",
       "      <th>8</th>\n",
       "      <th>9</th>\n",
       "      <th>10</th>\n",
       "      <th>...</th>\n",
       "      <th>92</th>\n",
       "      <th>93</th>\n",
       "      <th>94</th>\n",
       "      <th>95</th>\n",
       "      <th>96</th>\n",
       "      <th>97</th>\n",
       "      <th>98</th>\n",
       "      <th>99</th>\n",
       "      <th>100</th>\n",
       "      <th>All</th>\n",
       "    </tr>\n",
       "    <tr>\n",
       "      <th>https</th>\n",
       "      <th></th>\n",
       "      <th></th>\n",
       "      <th></th>\n",
       "      <th></th>\n",
       "      <th></th>\n",
       "      <th></th>\n",
       "      <th></th>\n",
       "      <th></th>\n",
       "      <th></th>\n",
       "      <th></th>\n",
       "      <th></th>\n",
       "      <th></th>\n",
       "      <th></th>\n",
       "      <th></th>\n",
       "      <th></th>\n",
       "      <th></th>\n",
       "      <th></th>\n",
       "      <th></th>\n",
       "      <th></th>\n",
       "      <th></th>\n",
       "      <th></th>\n",
       "    </tr>\n",
       "  </thead>\n",
       "  <tbody>\n",
       "    <tr>\n",
       "      <th>False</th>\n",
       "      <td>421</td>\n",
       "      <td>514</td>\n",
       "      <td>559</td>\n",
       "      <td>681</td>\n",
       "      <td>726</td>\n",
       "      <td>775</td>\n",
       "      <td>845</td>\n",
       "      <td>903</td>\n",
       "      <td>1020</td>\n",
       "      <td>1072</td>\n",
       "      <td>...</td>\n",
       "      <td>265</td>\n",
       "      <td>244</td>\n",
       "      <td>247</td>\n",
       "      <td>264</td>\n",
       "      <td>253</td>\n",
       "      <td>269</td>\n",
       "      <td>248</td>\n",
       "      <td>249</td>\n",
       "      <td>228</td>\n",
       "      <td>48135</td>\n",
       "    </tr>\n",
       "    <tr>\n",
       "      <th>True</th>\n",
       "      <td>1289</td>\n",
       "      <td>1196</td>\n",
       "      <td>1151</td>\n",
       "      <td>1029</td>\n",
       "      <td>984</td>\n",
       "      <td>935</td>\n",
       "      <td>865</td>\n",
       "      <td>807</td>\n",
       "      <td>690</td>\n",
       "      <td>637</td>\n",
       "      <td>...</td>\n",
       "      <td>255</td>\n",
       "      <td>276</td>\n",
       "      <td>273</td>\n",
       "      <td>256</td>\n",
       "      <td>267</td>\n",
       "      <td>251</td>\n",
       "      <td>272</td>\n",
       "      <td>271</td>\n",
       "      <td>258</td>\n",
       "      <td>45295</td>\n",
       "    </tr>\n",
       "    <tr>\n",
       "      <th>All</th>\n",
       "      <td>1710</td>\n",
       "      <td>1710</td>\n",
       "      <td>1710</td>\n",
       "      <td>1710</td>\n",
       "      <td>1710</td>\n",
       "      <td>1710</td>\n",
       "      <td>1710</td>\n",
       "      <td>1710</td>\n",
       "      <td>1710</td>\n",
       "      <td>1709</td>\n",
       "      <td>...</td>\n",
       "      <td>520</td>\n",
       "      <td>520</td>\n",
       "      <td>520</td>\n",
       "      <td>520</td>\n",
       "      <td>520</td>\n",
       "      <td>520</td>\n",
       "      <td>520</td>\n",
       "      <td>520</td>\n",
       "      <td>486</td>\n",
       "      <td>93430</td>\n",
       "    </tr>\n",
       "  </tbody>\n",
       "</table>\n",
       "<p>3 rows × 101 columns</p>\n",
       "</div>"
      ],
      "text/plain": [
       "page      1     2     3     4     5     6     7     8     9    10  ...     92  \\\n",
       "https                                                              ...          \n",
       "False   421   514   559   681   726   775   845   903  1020  1072  ...    265   \n",
       "True   1289  1196  1151  1029   984   935   865   807   690   637  ...    255   \n",
       "All    1710  1710  1710  1710  1710  1710  1710  1710  1710  1709  ...    520   \n",
       "\n",
       "page    93   94   95   96   97   98   99  100    All  \n",
       "https                                                 \n",
       "False  244  247  264  253  269  248  249  228  48135  \n",
       "True   276  273  256  267  251  272  271  258  45295  \n",
       "All    520  520  520  520  520  520  520  486  93430  \n",
       "\n",
       "[3 rows x 101 columns]"
      ]
     },
     "execution_count": 46,
     "metadata": {},
     "output_type": "execute_result"
    }
   ],
   "source": [
    "pd.crosstab(df['https'], df['page'], margins=True)"
   ]
  },
  {
   "cell_type": "markdown",
   "metadata": {},
   "source": [
    "Отобразим тоже самое на графиках\n",
    "\n",
    "Общее распределение типа соединения"
   ]
  },
  {
   "cell_type": "code",
   "execution_count": 48,
   "metadata": {},
   "outputs": [
    {
     "data": {
      "image/png": "[encoded data removed]",
      "text/plain": [
       "<matplotlib.figure.Figure at 0x17204048>"
      ]
     },
     "metadata": {},
     "output_type": "display_data"
    }
   ],
   "source": [
    "df['https'].value_counts().plot(kind='bar', label='https')\n",
    "plt.legend()\n",
    "plt.title('Распределение https сайтов');"
   ]
  },
  {
   "cell_type": "markdown",
   "metadata": {},
   "source": [
    "Распределение типа соединения по страницам поисковой выдачи"
   ]
  },
  {
   "cell_type": "code",
   "execution_count": 4,
   "metadata": {},
   "outputs": [
    {
     "data": {
      "image/png": "[encoded data removed]",
      "text/plain": [
       "<matplotlib.figure.Figure at 0x7cc4518>"
      ]
     },
     "metadata": {},
     "output_type": "display_data"
    }
   ],
   "source": [
    "# отключим предупреждения Anaconda\n",
    "import warnings\n",
    "warnings.simplefilter('ignore')\n",
    "\n",
    "# будем отображать графики прямо в jupyter'e\n",
    "%matplotlib inline\n",
    "import seaborn as sns\n",
    "import matplotlib.pyplot as plt\n",
    "\n",
    "#увеличим дефолтный размер графиков\n",
    "from pylab import rcParams\n",
    "rcParams['figure.figsize'] = 16, 10\n",
    "\n",
    "sns.countplot(x='page', hue='https', data=df);"
   ]
  },
  {
   "cell_type": "markdown",
   "metadata": {},
   "source": [
    "Отобразим первую половичну до 50 страницы поисковой системы"
   ]
  },
  {
   "cell_type": "code",
   "execution_count": 5,
   "metadata": {},
   "outputs": [
    {
     "data": {
      "image/png": "[encoded data removed]",
      "text/plain": [
       "<matplotlib.figure.Figure at 0x15d42978>"
      ]
     },
     "metadata": {},
     "output_type": "display_data"
    }
   ],
   "source": [
    "df2=df[df['page']<51]\n",
    "sns.countplot(x='page', hue='https', data=df2);"
   ]
  },
  {
   "cell_type": "code",
   "execution_count": 38,
   "metadata": {
    "collapsed": true
   },
   "outputs": [],
   "source": [
    "#сохраним данные\n",
    "df.to_csv('https.csv')"
   ]
  },
  {
   "cell_type": "markdown",
   "metadata": {
    "collapsed": true
   },
   "source": [
    "На первой странице (топ10) Яндекса количество сайтов использующих безопасное соединение в 3 раза больше. "
   ]
  },
  {
   "cell_type": "markdown",
   "metadata": {},
   "source": [
    "Рассчитаем процент hhtps соединения на страницах поисковых систем"
   ]
  },
  {
   "cell_type": "code",
   "execution_count": 17,
   "metadata": {},
   "outputs": [
    {
     "data": {
      "text/html": [
       "<div>\n",
       "<style scoped>\n",
       "    .dataframe tbody tr th:only-of-type {\n",
       "        vertical-align: middle;\n",
       "    }\n",
       "\n",
       "    .dataframe tbody tr th {\n",
       "        vertical-align: top;\n",
       "    }\n",
       "\n",
       "    .dataframe thead th {\n",
       "        text-align: right;\n",
       "    }\n",
       "</style>\n",
       "<table border=\"1\" class=\"dataframe\">\n",
       "  <thead>\n",
       "    <tr style=\"text-align: right;\">\n",
       "      <th></th>\n",
       "      <th>query</th>\n",
       "      <th>pos</th>\n",
       "      <th>url</th>\n",
       "      <th>doccount</th>\n",
       "      <th>size</th>\n",
       "      <th>domain</th>\n",
       "      <th>charset</th>\n",
       "      <th>mime-type</th>\n",
       "      <th>page</th>\n",
       "      <th>https</th>\n",
       "    </tr>\n",
       "  </thead>\n",
       "  <tbody>\n",
       "    <tr>\n",
       "      <th>0</th>\n",
       "      <td>seo оптимизация сайта заказать</td>\n",
       "      <td>1</td>\n",
       "      <td>https://kwork.ru/categories/optimization</td>\n",
       "      <td>6129.0</td>\n",
       "      <td>2976.0</td>\n",
       "      <td>kwork.ru</td>\n",
       "      <td>utf-8</td>\n",
       "      <td>text/html</td>\n",
       "      <td>1</td>\n",
       "      <td>1</td>\n",
       "    </tr>\n",
       "    <tr>\n",
       "      <th>1</th>\n",
       "      <td>seo оптимизация сайта заказать</td>\n",
       "      <td>2</td>\n",
       "      <td>https://divly.ru/seo</td>\n",
       "      <td>4.0</td>\n",
       "      <td>1795.0</td>\n",
       "      <td>divly.ru</td>\n",
       "      <td>utf-8</td>\n",
       "      <td>text/html</td>\n",
       "      <td>1</td>\n",
       "      <td>1</td>\n",
       "    </tr>\n",
       "    <tr>\n",
       "      <th>2</th>\n",
       "      <td>seo оптимизация сайта заказать</td>\n",
       "      <td>3</td>\n",
       "      <td>https://optimizator.su/optimization/</td>\n",
       "      <td>34.0</td>\n",
       "      <td>2248.0</td>\n",
       "      <td>optimizator.su</td>\n",
       "      <td>utf-8</td>\n",
       "      <td>text/html</td>\n",
       "      <td>1</td>\n",
       "      <td>1</td>\n",
       "    </tr>\n",
       "    <tr>\n",
       "      <th>3</th>\n",
       "      <td>seo оптимизация сайта заказать</td>\n",
       "      <td>4</td>\n",
       "      <td>http://freelance.youdo.com/marketing/seo/optim...</td>\n",
       "      <td>168.0</td>\n",
       "      <td>2849.0</td>\n",
       "      <td>freelance.youdo.com</td>\n",
       "      <td>utf-8</td>\n",
       "      <td>text/html</td>\n",
       "      <td>1</td>\n",
       "      <td>0</td>\n",
       "    </tr>\n",
       "    <tr>\n",
       "      <th>4</th>\n",
       "      <td>seo оптимизация сайта заказать</td>\n",
       "      <td>5</td>\n",
       "      <td>https://seoXL.ru/seo_optimizacija_sajta/</td>\n",
       "      <td>18.0</td>\n",
       "      <td>1321.0</td>\n",
       "      <td>seoXL.ru</td>\n",
       "      <td>utf-8</td>\n",
       "      <td>text/html</td>\n",
       "      <td>1</td>\n",
       "      <td>1</td>\n",
       "    </tr>\n",
       "  </tbody>\n",
       "</table>\n",
       "</div>"
      ],
      "text/plain": [
       "                            query  pos  \\\n",
       "0  seo оптимизация сайта заказать    1   \n",
       "1  seo оптимизация сайта заказать    2   \n",
       "2  seo оптимизация сайта заказать    3   \n",
       "3  seo оптимизация сайта заказать    4   \n",
       "4  seo оптимизация сайта заказать    5   \n",
       "\n",
       "                                                 url  doccount    size  \\\n",
       "0           https://kwork.ru/categories/optimization    6129.0  2976.0   \n",
       "1                               https://divly.ru/seo       4.0  1795.0   \n",
       "2               https://optimizator.su/optimization/      34.0  2248.0   \n",
       "3  http://freelance.youdo.com/marketing/seo/optim...     168.0  2849.0   \n",
       "4           https://seoXL.ru/seo_optimizacija_sajta/      18.0  1321.0   \n",
       "\n",
       "                domain charset  mime-type  page  https  \n",
       "0             kwork.ru   utf-8  text/html     1      1  \n",
       "1             divly.ru   utf-8  text/html     1      1  \n",
       "2       optimizator.su   utf-8  text/html     1      1  \n",
       "3  freelance.youdo.com   utf-8  text/html     1      0  \n",
       "4             seoXL.ru   utf-8  text/html     1      1  "
      ]
     },
     "execution_count": 17,
     "metadata": {},
     "output_type": "execute_result"
    }
   ],
   "source": [
    "d = {False : 0, True : 1}\n",
    "df['https'] = df['https'].map(d)\n",
    "df.head()"
   ]
  },
  {
   "cell_type": "code",
   "execution_count": 29,
   "metadata": {},
   "outputs": [
    {
     "data": {
      "image/png": "[encoded data removed]",
      "text/plain": [
       "<matplotlib.figure.Figure at 0x178b1b00>"
      ]
     },
     "metadata": {},
     "output_type": "display_data"
    }
   ],
   "source": [
    "df.pivot_table('https', index='page').plot();"
   ]
  },
  {
   "cell_type": "code",
   "execution_count": 36,
   "metadata": {},
   "outputs": [
    {
     "data": {
      "image/png": "[encoded data removed]",
      "text/plain": [
       "<matplotlib.figure.Figure at 0x17699080>"
      ]
     },
     "metadata": {},
     "output_type": "display_data"
    }
   ],
   "source": [
    "df[df['page']<21].pivot_table('https', index='page').plot();"
   ]
  },
  {
   "cell_type": "markdown",
   "metadata": {},
   "source": [
    "# Вывод: \n",
    "Использование https положительно влият по позиции сайта, если сайт находится в Яндексе на позиции с 1 по 12 страницу (не дальше 100 позиции)\n"
   ]
  }
 ],
 "metadata": {
  "kernelspec": {
   "display_name": "Python 3",
   "language": "python",
   "name": "python3"
  },
  "language_info": {
   "codemirror_mode": {
    "name": "ipython",
    "version": 3
   },
   "file_extension": ".py",
   "mimetype": "text/x-python",
   "name": "python",
   "nbconvert_exporter": "python",
   "pygments_lexer": "ipython3",
   "version": "3.7.6"
  }
 },
 "nbformat": 4,
 "nbformat_minor": 2
}
